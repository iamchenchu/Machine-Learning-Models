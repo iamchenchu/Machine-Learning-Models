{
 "cells": [
  {
   "cell_type": "markdown",
   "id": "5be6ca2e",
   "metadata": {},
   "source": [
    "#### This is an implementation of perceptron learning algorithm in single layered perceptron "
   ]
  },
  {
   "cell_type": "code",
   "execution_count": 1,
   "id": "b547fbda",
   "metadata": {},
   "outputs": [],
   "source": [
    "import numpy as np\n",
    "import matplotlib.pyplot as plt "
   ]
  },
  {
   "cell_type": "code",
   "execution_count": 3,
   "id": "08f8b800",
   "metadata": {},
   "outputs": [],
   "source": [
    "x1 = np.array([0., 0., 1., 1.], dtype = np.float32) # . is for simply say that it is a float value \n",
    "x2 = np.array([0., 1., 0., 1.], dtype = np.float32) \n",
    "\n",
    "y = np.array([0, 0, 0, 1], dtype = int) # For output we do not need any floating points as we are doing this for binary classification which means 0 or 1"
   ]
  },
  {
   "cell_type": "code",
   "execution_count": 4,
   "id": "0fdfe287",
   "metadata": {},
   "outputs": [
    {
     "data": {
      "text/plain": [
       "<matplotlib.collections.PathCollection at 0x10d292450>"
      ]
     },
     "execution_count": 4,
     "metadata": {},
     "output_type": "execute_result"
    },
    {
     "data": {
      "image/png": "[encoded data removed]",
      "text/plain": [
       "<Figure size 640x480 with 1 Axes>"
      ]
     },
     "metadata": {},
     "output_type": "display_data"
    }
   ],
   "source": [
    "plt.scatter(x1, x2, c=y)\n"
   ]
  },
  {
   "cell_type": "code",
   "execution_count": 5,
   "id": "b4c7017a",
   "metadata": {},
   "outputs": [],
   "source": [
    "# Repeat the numbers from x1, x2, and y - 50 times to augment the data we have to make understand our infant model well.\n",
    "\n",
    "x1 = np.repeat(x1, 50)\n",
    "x2 = np.repeat(x2, 50)\n",
    "y =  np.repeat(y, 50)"
   ]
  },
  {
   "cell_type": "code",
   "execution_count": 6,
   "id": "6d9cb4a5",
   "metadata": {},
   "outputs": [
    {
     "data": {
      "text/plain": [
       "array([0., 0., 0., 0., 0., 0., 0., 0., 0., 0., 0., 0., 0., 0., 0., 0., 0.,\n",
       "       0., 0., 0., 0., 0., 0., 0., 0., 0., 0., 0., 0., 0., 0., 0., 0., 0.,\n",
       "       0., 0., 0., 0., 0., 0., 0., 0., 0., 0., 0., 0., 0., 0., 0., 0., 0.,\n",
       "       0., 0., 0., 0., 0., 0., 0., 0., 0., 0., 0., 0., 0., 0., 0., 0., 0.,\n",
       "       0., 0., 0., 0., 0., 0., 0., 0., 0., 0., 0., 0., 0., 0., 0., 0., 0.,\n",
       "       0., 0., 0., 0., 0., 0., 0., 0., 0., 0., 0., 0., 0., 0., 0., 1., 1.,\n",
       "       1., 1., 1., 1., 1., 1., 1., 1., 1., 1., 1., 1., 1., 1., 1., 1., 1.,\n",
       "       1., 1., 1., 1., 1., 1., 1., 1., 1., 1., 1., 1., 1., 1., 1., 1., 1.,\n",
       "       1., 1., 1., 1., 1., 1., 1., 1., 1., 1., 1., 1., 1., 1., 1., 1., 1.,\n",
       "       1., 1., 1., 1., 1., 1., 1., 1., 1., 1., 1., 1., 1., 1., 1., 1., 1.,\n",
       "       1., 1., 1., 1., 1., 1., 1., 1., 1., 1., 1., 1., 1., 1., 1., 1., 1.,\n",
       "       1., 1., 1., 1., 1., 1., 1., 1., 1., 1., 1., 1., 1.], dtype=float32)"
      ]
     },
     "execution_count": 6,
     "metadata": {},
     "output_type": "execute_result"
    }
   ],
   "source": [
    "x1"
   ]
  },
  {
   "cell_type": "code",
   "execution_count": 7,
   "id": "c9a49300",
   "metadata": {},
   "outputs": [
    {
     "data": {
      "text/plain": [
       "(200,)"
      ]
     },
     "execution_count": 7,
     "metadata": {},
     "output_type": "execute_result"
    }
   ],
   "source": [
    "x1.shape"
   ]
  },
  {
   "cell_type": "code",
   "execution_count": 8,
   "id": "a696b836",
   "metadata": {},
   "outputs": [
    {
     "data": {
      "text/plain": [
       "array([0., 0., 0., 0., 0., 0., 0., 0., 0., 0., 0., 0., 0., 0., 0., 0., 0.,\n",
       "       0., 0., 0., 0., 0., 0., 0., 0., 0., 0., 0., 0., 0., 0., 0., 0., 0.,\n",
       "       0., 0., 0., 0., 0., 0., 0., 0., 0., 0., 0., 0., 0., 0., 0., 0., 1.,\n",
       "       1., 1., 1., 1., 1., 1., 1., 1., 1., 1., 1., 1., 1., 1., 1., 1., 1.,\n",
       "       1., 1., 1., 1., 1., 1., 1., 1., 1., 1., 1., 1., 1., 1., 1., 1., 1.,\n",
       "       1., 1., 1., 1., 1., 1., 1., 1., 1., 1., 1., 1., 1., 1., 1., 0., 0.,\n",
       "       0., 0., 0., 0., 0., 0., 0., 0., 0., 0., 0., 0., 0., 0., 0., 0., 0.,\n",
       "       0., 0., 0., 0., 0., 0., 0., 0., 0., 0., 0., 0., 0., 0., 0., 0., 0.,\n",
       "       0., 0., 0., 0., 0., 0., 0., 0., 0., 0., 0., 0., 0., 0., 1., 1., 1.,\n",
       "       1., 1., 1., 1., 1., 1., 1., 1., 1., 1., 1., 1., 1., 1., 1., 1., 1.,\n",
       "       1., 1., 1., 1., 1., 1., 1., 1., 1., 1., 1., 1., 1., 1., 1., 1., 1.,\n",
       "       1., 1., 1., 1., 1., 1., 1., 1., 1., 1., 1., 1., 1.], dtype=float32)"
      ]
     },
     "execution_count": 8,
     "metadata": {},
     "output_type": "execute_result"
    }
   ],
   "source": [
    "x2\n"
   ]
  },
  {
   "cell_type": "code",
   "execution_count": 9,
   "id": "317bff54",
   "metadata": {},
   "outputs": [
    {
     "data": {
      "text/plain": [
       "(200,)"
      ]
     },
     "execution_count": 9,
     "metadata": {},
     "output_type": "execute_result"
    }
   ],
   "source": [
    "x2.shape"
   ]
  },
  {
   "cell_type": "code",
   "execution_count": 10,
   "id": "8b2d6850",
   "metadata": {},
   "outputs": [
    {
     "data": {
      "text/plain": [
       "array([0, 0, 0, 0, 0, 0, 0, 0, 0, 0, 0, 0, 0, 0, 0, 0, 0, 0, 0, 0, 0, 0,\n",
       "       0, 0, 0, 0, 0, 0, 0, 0, 0, 0, 0, 0, 0, 0, 0, 0, 0, 0, 0, 0, 0, 0,\n",
       "       0, 0, 0, 0, 0, 0, 0, 0, 0, 0, 0, 0, 0, 0, 0, 0, 0, 0, 0, 0, 0, 0,\n",
       "       0, 0, 0, 0, 0, 0, 0, 0, 0, 0, 0, 0, 0, 0, 0, 0, 0, 0, 0, 0, 0, 0,\n",
       "       0, 0, 0, 0, 0, 0, 0, 0, 0, 0, 0, 0, 0, 0, 0, 0, 0, 0, 0, 0, 0, 0,\n",
       "       0, 0, 0, 0, 0, 0, 0, 0, 0, 0, 0, 0, 0, 0, 0, 0, 0, 0, 0, 0, 0, 0,\n",
       "       0, 0, 0, 0, 0, 0, 0, 0, 0, 0, 0, 0, 0, 0, 0, 0, 0, 0, 1, 1, 1, 1,\n",
       "       1, 1, 1, 1, 1, 1, 1, 1, 1, 1, 1, 1, 1, 1, 1, 1, 1, 1, 1, 1, 1, 1,\n",
       "       1, 1, 1, 1, 1, 1, 1, 1, 1, 1, 1, 1, 1, 1, 1, 1, 1, 1, 1, 1, 1, 1,\n",
       "       1, 1])"
      ]
     },
     "execution_count": 10,
     "metadata": {},
     "output_type": "execute_result"
    }
   ],
   "source": [
    "y"
   ]
  },
  {
   "cell_type": "code",
   "execution_count": 11,
   "id": "7b1c4982",
   "metadata": {},
   "outputs": [],
   "source": [
    "# Now let's add some noise so that model will have the clarity that which is wrong and which is right \n",
    "x1 = x1 + np.random.rand(x1.shape[0])*0.05  # x1.shape = 200, \n",
    "x2 = x2 + np.random.rand(x2.shape[0])*0.05\n",
    "# We should not add the noise as we have to map our data to exact class "
   ]
  },
  {
   "cell_type": "code",
   "execution_count": 12,
   "id": "d0b20aba",
   "metadata": {},
   "outputs": [
    {
     "data": {
      "text/plain": [
       "<matplotlib.collections.PathCollection at 0x11c04f3d0>"
      ]
     },
     "execution_count": 12,
     "metadata": {},
     "output_type": "execute_result"
    },
    {
     "data": {
      "image/png": "[encoded data removed]",
      "text/plain": [
       "<Figure size 640x480 with 1 Axes>"
      ]
     },
     "metadata": {},
     "output_type": "display_data"
    }
   ],
   "source": [
    "plt.scatter(x1, x2, c=y) "
   ]
  },
  {
   "cell_type": "code",
   "execution_count": 13,
   "id": "0286c8fa",
   "metadata": {},
   "outputs": [],
   "source": [
    "# combine x1 and x2 \n",
    "\n",
    "X = np.column_stack((x1, x2))"
   ]
  },
  {
   "cell_type": "code",
   "execution_count": 14,
   "id": "080d55be",
   "metadata": {},
   "outputs": [
    {
     "data": {
      "text/plain": [
       "array([[3.18872454e-02, 1.42642331e-03],\n",
       "       [3.77880278e-02, 2.86626971e-02],\n",
       "       [4.27886287e-02, 3.08470969e-02],\n",
       "       [1.29564179e-02, 3.67924293e-02],\n",
       "       [3.61317527e-02, 1.37723885e-02],\n",
       "       [3.88182162e-03, 1.49113089e-02],\n",
       "       [4.60823881e-02, 2.36299251e-02],\n",
       "       [3.78966443e-02, 6.10283404e-03],\n",
       "       [1.45861668e-02, 5.33804454e-03],\n",
       "       [2.74415556e-02, 2.22454546e-02],\n",
       "       [2.11584763e-02, 1.44434812e-02],\n",
       "       [1.60781570e-03, 4.66142895e-02],\n",
       "       [1.29868030e-02, 2.60502196e-02],\n",
       "       [4.77836656e-02, 3.39891174e-02],\n",
       "       [2.38661128e-02, 4.65631224e-02],\n",
       "       [6.85883104e-03, 1.94693038e-02],\n",
       "       [4.64111544e-02, 4.19655610e-03],\n",
       "       [1.90472895e-02, 3.88223141e-04],\n",
       "       [2.09809582e-02, 1.84873226e-02],\n",
       "       [3.10432558e-02, 4.73111571e-02],\n",
       "       [5.14712404e-03, 2.57930968e-02],\n",
       "       [1.65257664e-02, 4.80533350e-02],\n",
       "       [4.82304171e-02, 4.35170577e-02],\n",
       "       [2.70665524e-02, 2.54784414e-03],\n",
       "       [8.12671775e-04, 3.04588084e-03],\n",
       "       [6.09020527e-03, 1.84946908e-02],\n",
       "       [3.50678163e-02, 2.81094668e-02],\n",
       "       [2.56813663e-03, 1.42512295e-02],\n",
       "       [4.39776528e-02, 4.97148604e-02],\n",
       "       [9.72563693e-03, 1.34893122e-02],\n",
       "       [4.20556925e-02, 3.55209730e-02],\n",
       "       [1.12949639e-02, 2.79163301e-02],\n",
       "       [2.57409116e-02, 8.23301319e-03],\n",
       "       [2.04027215e-02, 4.65797780e-02],\n",
       "       [3.32532201e-02, 2.10164495e-02],\n",
       "       [3.31887644e-02, 3.49097416e-02],\n",
       "       [2.41658547e-02, 3.55497730e-02],\n",
       "       [4.89534631e-02, 3.72815549e-02],\n",
       "       [4.65583706e-02, 1.57621389e-02],\n",
       "       [1.88407173e-02, 9.80420439e-03],\n",
       "       [2.24012998e-02, 6.14156131e-03],\n",
       "       [4.60911272e-02, 3.83274812e-02],\n",
       "       [3.99045704e-02, 1.60571705e-02],\n",
       "       [2.22236158e-02, 1.36822973e-02],\n",
       "       [3.61441391e-02, 4.36449927e-02],\n",
       "       [4.53880411e-02, 2.26803451e-02],\n",
       "       [3.35982013e-02, 4.46571644e-02],\n",
       "       [2.21011860e-02, 1.17310734e-02],\n",
       "       [4.10867664e-02, 2.13378488e-02],\n",
       "       [3.27141441e-02, 2.68341719e-03],\n",
       "       [2.68923927e-02, 1.04689075e+00],\n",
       "       [3.81756920e-02, 1.00525377e+00],\n",
       "       [4.19809689e-02, 1.00773414e+00],\n",
       "       [1.70576305e-03, 1.04233932e+00],\n",
       "       [4.76743008e-02, 1.00006257e+00],\n",
       "       [2.51301706e-02, 1.04982854e+00],\n",
       "       [9.57435519e-03, 1.01210986e+00],\n",
       "       [4.08691881e-02, 1.00123717e+00],\n",
       "       [6.61248650e-03, 1.03749252e+00],\n",
       "       [2.36085818e-02, 1.02603498e+00],\n",
       "       [1.83200274e-02, 1.00441280e+00],\n",
       "       [3.63298367e-02, 1.02991448e+00],\n",
       "       [3.57685671e-02, 1.04369740e+00],\n",
       "       [3.44119112e-02, 1.03278453e+00],\n",
       "       [2.10888089e-02, 1.01416930e+00],\n",
       "       [4.26292445e-03, 1.04204957e+00],\n",
       "       [1.76670056e-02, 1.03439381e+00],\n",
       "       [1.11245867e-02, 1.02378515e+00],\n",
       "       [1.78860300e-02, 1.01311206e+00],\n",
       "       [3.41028539e-02, 1.01132317e+00],\n",
       "       [1.92497723e-02, 1.03932750e+00],\n",
       "       [4.65524961e-02, 1.01508045e+00],\n",
       "       [4.45887139e-02, 1.04108359e+00],\n",
       "       [1.14411232e-02, 1.01972024e+00],\n",
       "       [1.99153831e-02, 1.00039655e+00],\n",
       "       [2.56684609e-02, 1.02136055e+00],\n",
       "       [2.41144405e-02, 1.02499203e+00],\n",
       "       [4.38955287e-02, 1.02231924e+00],\n",
       "       [4.65151286e-02, 1.01028679e+00],\n",
       "       [2.10917675e-02, 1.02392041e+00],\n",
       "       [4.86776574e-02, 1.01744469e+00],\n",
       "       [2.57194233e-02, 1.04800819e+00],\n",
       "       [2.52052789e-02, 1.00115398e+00],\n",
       "       [1.29072239e-02, 1.01991998e+00],\n",
       "       [5.62155899e-03, 1.03110925e+00],\n",
       "       [3.13350686e-02, 1.02209677e+00],\n",
       "       [4.50799831e-02, 1.00610352e+00],\n",
       "       [4.48115952e-02, 1.04010347e+00],\n",
       "       [4.32315106e-02, 1.00718333e+00],\n",
       "       [1.12015116e-02, 1.03640018e+00],\n",
       "       [4.21719132e-02, 1.04432794e+00],\n",
       "       [1.78711962e-02, 1.03265400e+00],\n",
       "       [3.63508909e-02, 1.02177992e+00],\n",
       "       [4.13510054e-02, 1.00127204e+00],\n",
       "       [1.98664575e-02, 1.03728228e+00],\n",
       "       [1.28826193e-02, 1.03354146e+00],\n",
       "       [2.66441782e-02, 1.04725654e+00],\n",
       "       [3.60011693e-02, 1.02510013e+00],\n",
       "       [2.32799248e-03, 1.02285076e+00],\n",
       "       [1.23715603e-02, 1.01740076e+00],\n",
       "       [1.01745834e+00, 3.39085760e-02],\n",
       "       [1.04541164e+00, 2.05823394e-02],\n",
       "       [1.00151601e+00, 1.67569094e-02],\n",
       "       [1.00373018e+00, 3.57117148e-02],\n",
       "       [1.02760434e+00, 1.70431192e-02],\n",
       "       [1.00502153e+00, 1.25261301e-02],\n",
       "       [1.00845748e+00, 3.64562746e-02],\n",
       "       [1.02270914e+00, 8.59160452e-04],\n",
       "       [1.03460580e+00, 4.56708241e-02],\n",
       "       [1.03563054e+00, 1.11213156e-02],\n",
       "       [1.03200459e+00, 4.31580164e-02],\n",
       "       [1.04215132e+00, 1.18104421e-02],\n",
       "       [1.04107068e+00, 3.71004601e-02],\n",
       "       [1.01549094e+00, 4.77319729e-02],\n",
       "       [1.00518381e+00, 4.71745656e-02],\n",
       "       [1.00435448e+00, 2.13502511e-02],\n",
       "       [1.03517785e+00, 1.15698894e-03],\n",
       "       [1.03736297e+00, 2.43342875e-02],\n",
       "       [1.04521622e+00, 4.16939754e-02],\n",
       "       [1.04130894e+00, 1.93566022e-02],\n",
       "       [1.01489675e+00, 1.12755068e-02],\n",
       "       [1.01893734e+00, 4.55894850e-02],\n",
       "       [1.04937214e+00, 3.89073749e-02],\n",
       "       [1.04958643e+00, 4.51555380e-02],\n",
       "       [1.04866040e+00, 4.01732385e-02],\n",
       "       [1.00823036e+00, 5.60016806e-03],\n",
       "       [1.03635348e+00, 1.41470364e-02],\n",
       "       [1.01273284e+00, 1.61614566e-02],\n",
       "       [1.02616648e+00, 1.69317186e-03],\n",
       "       [1.03558115e+00, 2.30159673e-02],\n",
       "       [1.03054269e+00, 4.39363947e-02],\n",
       "       [1.04398501e+00, 4.01532168e-02],\n",
       "       [1.01269668e+00, 1.79288567e-02],\n",
       "       [1.03427153e+00, 4.37172953e-02],\n",
       "       [1.04539247e+00, 2.33709437e-02],\n",
       "       [1.02992288e+00, 1.34631198e-02],\n",
       "       [1.02272109e+00, 1.83934337e-02],\n",
       "       [1.01403624e+00, 2.72351591e-02],\n",
       "       [1.02264714e+00, 1.28557338e-02],\n",
       "       [1.04288690e+00, 1.99306563e-02],\n",
       "       [1.02641805e+00, 4.25733704e-02],\n",
       "       [1.01035439e+00, 3.87175652e-02],\n",
       "       [1.04301091e+00, 4.85667875e-02],\n",
       "       [1.01790767e+00, 4.95956847e-02],\n",
       "       [1.03779542e+00, 9.75151805e-03],\n",
       "       [1.01038426e+00, 4.42038183e-02],\n",
       "       [1.01020034e+00, 1.19218798e-02],\n",
       "       [1.03222464e+00, 4.63683181e-02],\n",
       "       [1.03101078e+00, 2.29908221e-02],\n",
       "       [1.01545231e+00, 1.14988511e-02],\n",
       "       [1.01769194e+00, 1.00203501e+00],\n",
       "       [1.04645634e+00, 1.03569844e+00],\n",
       "       [1.02084975e+00, 1.03896713e+00],\n",
       "       [1.04446507e+00, 1.04413303e+00],\n",
       "       [1.02781700e+00, 1.02331390e+00],\n",
       "       [1.04992938e+00, 1.02143105e+00],\n",
       "       [1.01339548e+00, 1.04288856e+00],\n",
       "       [1.01805184e+00, 1.04148143e+00],\n",
       "       [1.04388170e+00, 1.02212415e+00],\n",
       "       [1.01454435e+00, 1.04292818e+00],\n",
       "       [1.04414115e+00, 1.00715511e+00],\n",
       "       [1.02579794e+00, 1.01930836e+00],\n",
       "       [1.03679475e+00, 1.02768826e+00],\n",
       "       [1.04136231e+00, 1.00409285e+00],\n",
       "       [1.01521768e+00, 1.01599110e+00],\n",
       "       [1.01860696e+00, 1.04717981e+00],\n",
       "       [1.03556860e+00, 1.04267378e+00],\n",
       "       [1.00533357e+00, 1.01142033e+00],\n",
       "       [1.01074769e+00, 1.01734206e+00],\n",
       "       [1.02485307e+00, 1.03660252e+00],\n",
       "       [1.03900954e+00, 1.04973710e+00],\n",
       "       [1.01165665e+00, 1.01580926e+00],\n",
       "       [1.03042350e+00, 1.02813127e+00],\n",
       "       [1.00050518e+00, 1.00003005e+00],\n",
       "       [1.04534530e+00, 1.03189843e+00],\n",
       "       [1.04514954e+00, 1.02337072e+00],\n",
       "       [1.00597437e+00, 1.02663137e+00],\n",
       "       [1.00845783e+00, 1.03974466e+00],\n",
       "       [1.04481333e+00, 1.00268447e+00],\n",
       "       [1.00260230e+00, 1.00211758e+00],\n",
       "       [1.02753492e+00, 1.00702541e+00],\n",
       "       [1.01470075e+00, 1.00413947e+00],\n",
       "       [1.03354172e+00, 1.02378251e+00],\n",
       "       [1.03804251e+00, 1.02166581e+00],\n",
       "       [1.03002028e+00, 1.03777293e+00],\n",
       "       [1.00882247e+00, 1.03997595e+00],\n",
       "       [1.03941907e+00, 1.04434730e+00],\n",
       "       [1.03276058e+00, 1.03001481e+00],\n",
       "       [1.00591210e+00, 1.04242942e+00],\n",
       "       [1.01748231e+00, 1.01094611e+00],\n",
       "       [1.02002944e+00, 1.01297564e+00],\n",
       "       [1.02899225e+00, 1.04564878e+00],\n",
       "       [1.04270324e+00, 1.01256467e+00],\n",
       "       [1.01774803e+00, 1.04726933e+00],\n",
       "       [1.03134321e+00, 1.04432396e+00],\n",
       "       [1.01425370e+00, 1.03238031e+00],\n",
       "       [1.01741942e+00, 1.03923084e+00],\n",
       "       [1.04594018e+00, 1.01115562e+00],\n",
       "       [1.01847871e+00, 1.03931273e+00],\n",
       "       [1.02572991e+00, 1.02092878e+00]])"
      ]
     },
     "execution_count": 14,
     "metadata": {},
     "output_type": "execute_result"
    }
   ],
   "source": [
    "X"
   ]
  },
  {
   "cell_type": "code",
   "execution_count": 27,
   "id": "04038d70",
   "metadata": {},
   "outputs": [
    {
     "name": "stdout",
     "output_type": "stream",
     "text": [
      "X.shape : (200, 2)\n",
      "y.shape : (200,)\n"
     ]
    }
   ],
   "source": [
    "print(f\"X.shape : {X.shape}\")\n",
    "print(f\"y.shape : {y.shape}\")\n"
   ]
  },
  {
   "cell_type": "code",
   "execution_count": 30,
   "id": "dabb9df6",
   "metadata": {},
   "outputs": [],
   "source": [
    "# It is not good practice to send the data directly without shuffling as there might my any correlation or dependenacy to the indexes so it's better to shuffle now \n",
    "\n",
    "#Shuffling\n",
    "\n",
    "shuffle_idx = np.arange(y.shape[0])\n",
    "shuffle_rng = np.random.RandomState(42) # rng = random number generator\n",
    "shuffle_rng.shuffle(shuffle_idx)\n",
    "\n",
    "X, y = X[shuffle_idx], y[shuffle_idx]"
   ]
  },
  {
   "cell_type": "code",
   "execution_count": 31,
   "id": "f6295b8d",
   "metadata": {},
   "outputs": [],
   "source": [
    "# Train_Test split - 70% and 30%\n",
    "\n",
    "X_train, X_test = X[shuffle_idx[:140]], X[shuffle_idx[140:]]\n",
    "y_train, y_test = y[shuffle_idx[:140]], y[shuffle_idx[140:]]"
   ]
  },
  {
   "cell_type": "code",
   "execution_count": 32,
   "id": "0f62de6b",
   "metadata": {},
   "outputs": [],
   "source": [
    "# Normalization (zero mean, unit variance is 1)\n",
    "\n",
    "mu, sigma = X_train.mean(axis = 0), X_train.std(axis = 0) # axis = 0 means find the operation along the rows , it it's 1 then along the columsn \n",
    "X_train = (X_train-mu)/sigma\n",
    "X_test = (X_test-mu)/sigma\n",
    " "
   ]
  },
  {
   "cell_type": "code",
   "execution_count": null,
   "id": "8a163bf5",
   "metadata": {},
   "outputs": [],
   "source": [
    "class Perceptron():\n",
    "    def __init__(self, num_features):\n",
    "        self.num_features = num_features\n",
    "        self.weights = np.zeros((), dtype=float)\n",
    "        self.bias = bias\n",
    "        "
   ]
  }
 ],
 "metadata": {
  "kernelspec": {
   "display_name": "Python 3 (ipykernel)",
   "language": "python",
   "name": "python3"
  },
  "language_info": {
   "codemirror_mode": {
    "name": "ipython",
    "version": 3
   },
   "file_extension": ".py",
   "mimetype": "text/x-python",
   "name": "python",
   "nbconvert_exporter": "python",
   "pygments_lexer": "ipython3",
   "version": "3.11.5"
  }
 },
 "nbformat": 4,
 "nbformat_minor": 5
}
