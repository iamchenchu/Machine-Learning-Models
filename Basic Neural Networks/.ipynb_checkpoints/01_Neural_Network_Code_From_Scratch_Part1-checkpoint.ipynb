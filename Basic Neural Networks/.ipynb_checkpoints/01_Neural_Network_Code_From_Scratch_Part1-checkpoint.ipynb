{
 "cells": [
  {
   "cell_type": "markdown",
   "id": "3c7f5ff6-3e54-4b71-b5bc-3bc60853d341",
   "metadata": {},
   "source": [
    "## Neural Networks From Scratch Coding "
   ]
  },
  {
   "cell_type": "markdown",
   "id": "6b81453f-b792-4aec-bc6f-7da406212f08",
   "metadata": {},
   "source": [
    "### Without using the loops : Hard coding"
   ]
  },
  {
   "cell_type": "code",
   "execution_count": 6,
   "id": "7da0d5f6-f60c-436d-bf59-eccde46e3b03",
   "metadata": {},
   "outputs": [
    {
     "name": "stdout",
     "output_type": "stream",
     "text": [
      "The layer outputs are : [4.8, 1.21, 2.385]\n"
     ]
    }
   ],
   "source": [
    "# These Neural Networks contain 4 inputs and 3 neurons \n",
    "# This means we will have 4 inputs for each neuron, 4 weights for each neuron, 3 biases \n",
    "\n",
    "inputs = [1, 2, 3, 2.5]\n",
    "weights = [[0.2, 0.8, -0.5, 1], [0.5, -0.91, 0.26, -0.5], [-0.26, -0.27, 0.17, 0.87]]\n",
    "\n",
    "weights1 = weights[0]\n",
    "weights2 = weights[1]\n",
    "weights3 = weights[2]\n",
    "\n",
    "# Biases\n",
    "biases = [2, 3, 0.5]\n",
    "\n",
    "#Output layer\n",
    "layer_outputs = [\n",
    "    weights1[0] * inputs[0] + weights1[1] * inputs[1] + weights1[2] * inputs[2] + weights1[3] * inputs[3] + biases[0],\n",
    "    weights2[0] * inputs[0] + weights2[1] * inputs[1] + weights2[2] * inputs[2] + weights2[3] * inputs[3] + biases[1],\n",
    "    weights3[0] * inputs[0] + weights3[1] * inputs[1] + weights3[2] * inputs[2] + weights3[3] * inputs[3] + biases[2]\n",
    "]\n",
    "\n",
    "print(f\"The layer outputs are : {layer_outputs}\")\n",
    "\n",
    "\n",
    "\n"
   ]
  },
  {
   "cell_type": "markdown",
   "id": "0c030528-21f7-4e5f-8c07-80b03d88f6a5",
   "metadata": {},
   "source": [
    "### Using loops for simplification and scaling\n",
    "\n",
    "We will use the same values as above but we will just use the loops instead of hard coding"
   ]
  },
  {
   "cell_type": "code",
   "execution_count": 14,
   "id": "3ab5db3e-1826-4b84-859a-1f9646eb31eb",
   "metadata": {},
   "outputs": [
    {
     "ename": "IndentationError",
     "evalue": "unindent does not match any outer indentation level (<tokenize>, line 13)",
     "output_type": "error",
     "traceback": [
      "\u001b[0;36m  File \u001b[0;32m<tokenize>:13\u001b[0;36m\u001b[0m\n\u001b[0;31m    neuron_output += bias\u001b[0m\n\u001b[0m    ^\u001b[0m\n\u001b[0;31mIndentationError\u001b[0m\u001b[0;31m:\u001b[0m unindent does not match any outer indentation level\n"
     ]
    }
   ],
   "source": [
    "inputs = [1, 2, 3, 2.5]\n",
    "weights = [[0.2, 0.8, -0.5, 1], [0.5, -0.91, 0.26, -0.5], [-0.26, -0.27, 0.17, 0.87]]\n",
    "biases = [2, 3, 0.5]\n",
    "\n",
    "layer_outputs = []\n",
    "# Loop for calculating the inputs and biases \n",
    "for weight, bias in zip(weights, biases):\n",
    "    # Zeroed output for the given neuron\n",
    "    neuron_output = 0\n",
    "    for n_input, weight in zip(inputs, neuron_weights):\n",
    "     neuron_output += n_input * weight\n",
    "\n",
    "  neuron_output += bias\n",
    "  layer_outputs.append(neuron_output)\n",
    "\n",
    "print(layer_outputs)"
   ]
  },
  {
   "cell_type": "code",
   "execution_count": null,
   "id": "d0312f11-4971-46db-b14c-5951c7f513a4",
   "metadata": {},
   "outputs": [],
   "source": []
  }
 ],
 "metadata": {
  "kernelspec": {
   "display_name": "Python 3 (ipykernel)",
   "language": "python",
   "name": "python3"
  },
  "language_info": {
   "codemirror_mode": {
    "name": "ipython",
    "version": 3
   },
   "file_extension": ".py",
   "mimetype": "text/x-python",
   "name": "python",
   "nbconvert_exporter": "python",
   "pygments_lexer": "ipython3",
   "version": "3.8.18"
  }
 },
 "nbformat": 4,
 "nbformat_minor": 5
}
