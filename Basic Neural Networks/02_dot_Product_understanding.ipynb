{
 "cells": [
  {
   "cell_type": "markdown",
   "id": "76830abd-6f65-4886-af62-1ded6adf9562",
   "metadata": {},
   "source": [
    "## Dot Product understanding"
   ]
  },
  {
   "cell_type": "markdown",
   "id": "be480201-2c6e-4eae-a851-b8de5120f59b",
   "metadata": {},
   "source": [
    "## This is for single neuron with 4 inputs and 4 weights and 1 bias "
   ]
  },
  {
   "cell_type": "code",
   "execution_count": 3,
   "id": "f6ba80bf-65d5-4d1d-91c3-072494eea52d",
   "metadata": {},
   "outputs": [
    {
     "name": "stdout",
     "output_type": "stream",
     "text": [
      "the output of the neuron is : 4.8\n"
     ]
    }
   ],
   "source": [
    "import numpy as np\n",
    "\n",
    "inputs = [1.0, 2.0, 3.0, 2.5]\n",
    "weights = [0.2, 0.8, -0.5, 1.0]\n",
    "bias = 2\n",
    "\n",
    "# convert list to numpy arrays\n",
    "inputs_array = np.array(inputs)\n",
    "weights_array = np.array(weights)\n",
    "\n",
    "#Calculate the dot product and add the bias\n",
    "outputs = np.dot(weights_array, inputs_array) + bias\n",
    "\n",
    "print(f\"the output of the neuron is : {outputs}\")"
   ]
  },
  {
   "cell_type": "markdown",
   "id": "4b415850-c786-4b83-87e0-435044130d04",
   "metadata": {},
   "source": [
    "## LAYER OF NEURONS USING NUMPY\n",
    "\n",
    "we will have 4 inputs for each neuron and 4 weights for each neuron and 3 neurons"
   ]
  },
  {
   "cell_type": "code",
   "execution_count": 9,
   "id": "33831b0e-62d5-4079-93f9-407eb5af93a5",
   "metadata": {},
   "outputs": [
    {
     "name": "stdout",
     "output_type": "stream",
     "text": [
      "The output of the layer is : [4.8   1.21  2.385]\n"
     ]
    }
   ],
   "source": [
    "import numpy as np\n",
    "\n",
    "inputs = [1.0, 2.0, 3.0, 2.5]\n",
    "weights = [[0.2, 0.8, -0.5, 1.0],\n",
    "           [0.5, -0.91, 0.26, -0.5],\n",
    "           [-0.26, -0.27, 0.17, 0.87]]\n",
    "\n",
    "biases = [2.0, 3.0, 0.5]\n",
    "\n",
    "\n",
    "# Convert lists to numpy arrays\n",
    "input_array = np.array(inputs)\n",
    "weights_array = np.array(weights)\n",
    "bias_array = np.array(biases)\n",
    "\n",
    "# Calculate the output of the layer by doing dot product of the inputs and weights and adding the bias\n",
    "\n",
    "layer_outputs = np.dot(weights_array, inputs_array) + bias_array\n",
    "\n",
    "print(f\"The output of the layer is : {layer_outputs}\")\n"
   ]
  },
  {
   "cell_type": "markdown",
   "id": "d10eacbd-4858-4d1c-8a80-9adbf2a78d70",
   "metadata": {},
   "source": [
    "## LAYER OF NEURONS AND BATCH OF DATA USING NUMPY\n",
    "\n",
    "Need to take the transpose of the weight matrix\n",
    "\n",
    "the layer will have different inputs for each neuron with the different weights \n"
   ]
  },
  {
   "cell_type": "code",
   "execution_count": 13,
   "id": "4c588d59-6eff-4ef3-9439-9d16600af232",
   "metadata": {},
   "outputs": [
    {
     "name": "stdout",
     "output_type": "stream",
     "text": [
      "the layer output is :\n",
      " [[ 4.8    1.21   2.385]\n",
      " [ 8.9   -1.81   0.2  ]\n",
      " [ 1.41   1.051  0.026]]\n"
     ]
    }
   ],
   "source": [
    "import numpy as np \n",
    "\n",
    "# Inputs 3* 4, Weights 3* 4, biases\n",
    "inputs = [[1.0, 2.0, 3.0, 2.5], \n",
    "          [2.0, 5.0, -1.0, 2.0], \n",
    "          [-1.5, 2.7, 3.3, -0.8]]\n",
    "weights = [[0.2, 0.8, -0.5, 1],\n",
    "           [0.5, -0.91, 0.26, -0.5],\n",
    "           [-0.26, -0.27, 0.17, 0.87]]\n",
    "biases = [2.0, 3.0, 0.5]\n",
    "\n",
    "# Now we can not directly do the matrix multiplication so we will use transpose \n",
    "\n",
    "inputs_array = np.array(inputs)\n",
    "weights_array = np.array(weights)\n",
    "biases_array = np.array(biases)\n",
    "\n",
    "# Calculate the output of the layer \n",
    "\n",
    "layer_outputs = np.dot(inputs_array, weights_array.T) + biases_array\n",
    "\n",
    "print(f\"the layer output is :\\n {layer_outputs}\")"
   ]
  },
  {
   "cell_type": "markdown",
   "id": "af4db50f-bac6-46ab-a30a-dd9e157b21a0",
   "metadata": {},
   "source": [
    "## 2 LAYERS AND BATCH OF DATA USING NUMPY\n",
    "\n",
    "we will have multiple inputs and multiple weights and we will calculate for each layer\n",
    "\n",
    "Note : outputs of the first layer will be the inputs of the 2nd layer along with the new weights and biases"
   ]
  },
  {
   "cell_type": "code",
   "execution_count": 27,
   "id": "d7e525cb-e3bc-4f7a-be8c-60ca4c0bee21",
   "metadata": {},
   "outputs": [
    {
     "name": "stdout",
     "output_type": "stream",
     "text": [
      "The shapes are :((3, 4), (3, 4))\n",
      "Layer1 outputs is : \n",
      "[[ 4.8    1.21   2.385]\n",
      " [ 8.9   -1.81   0.2  ]\n",
      " [ 1.41   1.051  0.026]]\n",
      "for layer to shape checks : ((3, 3), (3, 3))\n"
     ]
    }
   ],
   "source": [
    "import numpy as np \n",
    "\n",
    "inputs = [[1, 2, 3, 2.5],\n",
    "          [2., 5., -1., 2],\n",
    "          [-1.5, 2.7, 3.3, -0.8]]\n",
    "\n",
    "weights = [[0.2, 0.8, -0.5, 1],\n",
    "           [0.5, -0.91, 0.26, -0.5],\n",
    "           [-0.26, -0.27, 0.17, 0.87]]\n",
    "\n",
    "biases = [2, 3, 0.5]\n",
    "\n",
    "weights2 = [[0.1, -0.14, 0.5],\n",
    "            [-0.5, 0.12, -0.33],\n",
    "            [-0.44, 0.73, -0.13]]\n",
    "\n",
    "biases2 = [-1, 2, -0.5]\n",
    "\n",
    "#Convert the lists into arrays \n",
    "inputs_array = np.array(inputs)\n",
    "weights_array = np.array(weights)\n",
    "biases1_array = np.array(biases)\n",
    "weights2_array = np.array(weights2)\n",
    "biases2_array = np.array(biases2)\n",
    "\n",
    "# Calculate the Layers output \n",
    "print(f\"The shapes are :{inputs_array.shape, weights_array.shape}\") # The dimensions are :((3, 4), (3, 4))\n",
    "# Since the inner dimentions are not matching we should do transpose of any one of it \n",
    "\n",
    "layer1_outputs = np.dot(inputs_array, weights_array.T) + biases1_array\n",
    "print(f\"Layer1 outputs is : \\n{layer1_outputs}\")\n",
    "print(f\"for layer to shape checks : {layer1_outputs.shape, weights2_array.shape}\")"
   ]
  },
  {
   "cell_type": "code",
   "execution_count": 29,
   "id": "e7cd8c50-3c25-4614-ab86-38b480a4cf06",
   "metadata": {},
   "outputs": [
    {
     "name": "stdout",
     "output_type": "stream",
     "text": [
      "Layer2 outputs is : \n",
      "[[ 0.5031  -1.04185 -2.03875]\n",
      " [ 0.2434  -2.7332  -5.7633 ]\n",
      " [-0.99314  1.41254 -0.35655]]\n"
     ]
    }
   ],
   "source": [
    "layer2_outputs = np.dot(layer1_outputs, weights2_array.T) + biases2_array\n",
    "\n",
    "print(f\"Layer2 outputs is : \\n{layer2_outputs}\")"
   ]
  },
  {
   "cell_type": "code",
   "execution_count": null,
   "id": "636c6b23-8c1d-4ebb-8ed7-1558dd26bfdb",
   "metadata": {},
   "outputs": [],
   "source": []
  }
 ],
 "metadata": {
  "kernelspec": {
   "display_name": "Python 3 (ipykernel)",
   "language": "python",
   "name": "python3"
  },
  "language_info": {
   "codemirror_mode": {
    "name": "ipython",
    "version": 3
   },
   "file_extension": ".py",
   "mimetype": "text/x-python",
   "name": "python",
   "nbconvert_exporter": "python",
   "pygments_lexer": "ipython3",
   "version": "3.8.18"
  }
 },
 "nbformat": 4,
 "nbformat_minor": 5
}
