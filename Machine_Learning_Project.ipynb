{
 "cells": [
  {
   "cell_type": "markdown",
   "metadata": {
    "id": "VjvFfCAExntZ"
   },
   "source": [
    "# CSC 722 - Machine Learning Fundamentals\n",
    "\n",
    "# **Classification SVM Project**"
   ]
  },
  {
   "cell_type": "markdown",
   "metadata": {
    "id": "rv6YeKtOxo8i"
   },
   "source": [
    "**Team Members**\n",
    "\n",
    "---\n",
    "1. Dheeraj Avadhutha - 101129707\n",
    "2. Pranav Reddy Dareddy - 101134583\n",
    "3. Vamsi Yadala - 101130145\n",
    "4. Sri Mukund Kadiyala - 101134587\n",
    "5. Chenchaiah Mekalathuru - 101165473\n",
    "6. Sai Krishna Yadav Madiboyena - 101132195\n",
    "7. Shanmukh Sai Madhu - 101162913\n",
    "8. Pavan Kumar Balli - 101136776\n",
    "9. Sai Rajesh Chittavarjula - 101179899\n",
    "10. Rohit Mareddy - 101134589\n",
    "11. Aditya Adapa - 101130131"
   ]
  },
  {
   "cell_type": "code",
   "execution_count": 23,
   "metadata": {
    "id": "sXv-o-G3oeLm"
   },
   "outputs": [],
   "source": [
    "# Importing necessary libraries\n",
    "import numpy as np\n",
    "import pandas as pd\n",
    "from sklearn import datasets\n",
    "from sklearn.model_selection import train_test_split, cross_val_score, GridSearchCV\n",
    "from sklearn.preprocessing import StandardScaler, LabelEncoder\n",
    "from sklearn.svm import SVC\n",
    "from sklearn.metrics import accuracy_score, precision_score, recall_score, f1_score\n",
    "from sklearn.model_selection import KFold, learning_curve\n",
    "import matplotlib.pyplot as plt\n",
    "import seaborn as sns\n",
    "from sklearn.metrics import confusion_matrix"
   ]
  },
  {
   "cell_type": "code",
   "execution_count": 2,
   "metadata": {
    "id": "dpz7MiCypESO"
   },
   "outputs": [],
   "source": [
    "# Load the Iris dataset\n",
    "iris_data = datasets.load_iris()"
   ]
  },
  {
   "cell_type": "code",
   "execution_count": 3,
   "metadata": {
    "id": "dsXYW62IpFLW"
   },
   "outputs": [],
   "source": [
    "# Extract features (X) and target variable (y)\n",
    "X = iris_data.data\n",
    "y = iris_data.target"
   ]
  },
  {
   "cell_type": "markdown",
   "metadata": {
    "id": "gm28S4ES5lzn"
   },
   "source": [
    "Data Exploration and Preparation\n",
    "\n",
    "Preprocessing the data by handling missing values, scaling features and encoding categorical variables."
   ]
  },
  {
   "cell_type": "code",
   "execution_count": 4,
   "metadata": {
    "colab": {
     "base_uri": "https://localhost:8080/"
    },
    "id": "IWq2a6vdpIMJ",
    "outputId": "892e44d9-d15f-4ac9-eb3f-dfa0b673b1a5"
   },
   "outputs": [
    {
     "name": "stdout",
     "output_type": "stream",
     "text": [
      "Number of missing values: 0\n"
     ]
    }
   ],
   "source": [
    "# Check for missing values\n",
    "missing_values_count = np.sum(np.isnan(X))\n",
    "print(\"Number of missing values:\", missing_values_count)"
   ]
  },
  {
   "cell_type": "code",
   "execution_count": 5,
   "metadata": {
    "colab": {
     "base_uri": "https://localhost:8080/"
    },
    "id": "TDKEgzbGpLkz",
    "outputId": "c47dffbd-5a34-4b6c-8c07-dbad1364f4f5"
   },
   "outputs": [
    {
     "name": "stdout",
     "output_type": "stream",
     "text": [
      "Number of rows: 150\n",
      "Number of columns: 4\n"
     ]
    }
   ],
   "source": [
    "# Determine the dataset dimensions\n",
    "num_rows = X.shape[0]\n",
    "num_columns = X.shape[1]\n",
    "print(\"Number of rows:\", num_rows)\n",
    "print(\"Number of columns:\", num_columns)"
   ]
  },
  {
   "cell_type": "code",
   "execution_count": 6,
   "metadata": {
    "colab": {
     "base_uri": "https://localhost:8080/"
    },
    "id": "SMqRWcvlpMJR",
    "outputId": "fd690f70-69dd-46ee-89da-7ca410946d53"
   },
   "outputs": [
    {
     "name": "stdout",
     "output_type": "stream",
     "text": [
      "Shape of the dataset (X): (150, 4)\n",
      "First few rows of the dataset (X):\n",
      " [[5.1 3.5 1.4 0.2]\n",
      " [4.9 3.  1.4 0.2]\n",
      " [4.7 3.2 1.3 0.2]\n",
      " [4.6 3.1 1.5 0.2]\n",
      " [5.  3.6 1.4 0.2]]\n"
     ]
    }
   ],
   "source": [
    "# Display dataset shape and first few rows\n",
    "print(\"Shape of the dataset (X):\", X.shape)\n",
    "print(\"First few rows of the dataset (X):\\n\", X[:5])"
   ]
  },
  {
   "cell_type": "code",
   "execution_count": 7,
   "metadata": {
    "id": "ImRvblcVpMNj"
   },
   "outputs": [],
   "source": [
    "# Convert feature matrix X to a pandas DataFrame for further analysis\n",
    "X_df = pd.DataFrame(data=X, columns=iris_data.feature_names)"
   ]
  },
  {
   "cell_type": "code",
   "execution_count": 9,
   "metadata": {
    "colab": {
     "base_uri": "https://localhost:8080/"
    },
    "id": "XiOHVwuOupNE",
    "outputId": "ac5535e3-eb44-41dd-9021-d807db625808"
   },
   "outputs": [
    {
     "name": "stdout",
     "output_type": "stream",
     "text": [
      "Column labels:\n",
      "['sepal length (cm)', 'sepal width (cm)', 'petal length (cm)', 'petal width (cm)']\n"
     ]
    }
   ],
   "source": [
    "# Display column labels\n",
    "print(\"Column labels:\")\n",
    "print(iris_data.feature_names)"
   ]
  },
  {
   "cell_type": "code",
   "execution_count": 10,
   "metadata": {
    "id": "t0M1UThOupU7"
   },
   "outputs": [],
   "source": [
    "# Split the dataset into training and testing sets\n",
    "X_train, X_test, y_train, y_test = train_test_split(X, y, test_size=0.2, random_state=42)"
   ]
  },
  {
   "cell_type": "code",
   "execution_count": 11,
   "metadata": {
    "id": "aRkgBufwupX5"
   },
   "outputs": [],
   "source": [
    "# Feature scaling\n",
    "scaler = StandardScaler()\n",
    "X_train_scaled = scaler.fit_transform(X_train)\n",
    "X_test_scaled = scaler.transform(X_test)"
   ]
  },
  {
   "cell_type": "markdown",
   "metadata": {
    "id": "B6sSFJNN5sEs"
   },
   "source": [
    "SVM Implementation\n",
    "\n"
   ]
  },
  {
   "cell_type": "code",
   "execution_count": 12,
   "metadata": {
    "colab": {
     "base_uri": "https://localhost:8080/",
     "height": 74
    },
    "id": "L_3jDCxtupbR",
    "outputId": "a9c9b4d6-de9d-4dfd-d201-d9d3f1104ea3"
   },
   "outputs": [
    {
     "data": {
      "text/html": [
       "<style>#sk-container-id-1 {color: black;background-color: white;}#sk-container-id-1 pre{padding: 0;}#sk-container-id-1 div.sk-toggleable {background-color: white;}#sk-container-id-1 label.sk-toggleable__label {cursor: pointer;display: block;width: 100%;margin-bottom: 0;padding: 0.3em;box-sizing: border-box;text-align: center;}#sk-container-id-1 label.sk-toggleable__label-arrow:before {content: \"▸\";float: left;margin-right: 0.25em;color: #696969;}#sk-container-id-1 label.sk-toggleable__label-arrow:hover:before {color: black;}#sk-container-id-1 div.sk-estimator:hover label.sk-toggleable__label-arrow:before {color: black;}#sk-container-id-1 div.sk-toggleable__content {max-height: 0;max-width: 0;overflow: hidden;text-align: left;background-color: #f0f8ff;}#sk-container-id-1 div.sk-toggleable__content pre {margin: 0.2em;color: black;border-radius: 0.25em;background-color: #f0f8ff;}#sk-container-id-1 input.sk-toggleable__control:checked~div.sk-toggleable__content {max-height: 200px;max-width: 100%;overflow: auto;}#sk-container-id-1 input.sk-toggleable__control:checked~label.sk-toggleable__label-arrow:before {content: \"▾\";}#sk-container-id-1 div.sk-estimator input.sk-toggleable__control:checked~label.sk-toggleable__label {background-color: #d4ebff;}#sk-container-id-1 div.sk-label input.sk-toggleable__control:checked~label.sk-toggleable__label {background-color: #d4ebff;}#sk-container-id-1 input.sk-hidden--visually {border: 0;clip: rect(1px 1px 1px 1px);clip: rect(1px, 1px, 1px, 1px);height: 1px;margin: -1px;overflow: hidden;padding: 0;position: absolute;width: 1px;}#sk-container-id-1 div.sk-estimator {font-family: monospace;background-color: #f0f8ff;border: 1px dotted black;border-radius: 0.25em;box-sizing: border-box;margin-bottom: 0.5em;}#sk-container-id-1 div.sk-estimator:hover {background-color: #d4ebff;}#sk-container-id-1 div.sk-parallel-item::after {content: \"\";width: 100%;border-bottom: 1px solid gray;flex-grow: 1;}#sk-container-id-1 div.sk-label:hover label.sk-toggleable__label {background-color: #d4ebff;}#sk-container-id-1 div.sk-serial::before {content: \"\";position: absolute;border-left: 1px solid gray;box-sizing: border-box;top: 0;bottom: 0;left: 50%;z-index: 0;}#sk-container-id-1 div.sk-serial {display: flex;flex-direction: column;align-items: center;background-color: white;padding-right: 0.2em;padding-left: 0.2em;position: relative;}#sk-container-id-1 div.sk-item {position: relative;z-index: 1;}#sk-container-id-1 div.sk-parallel {display: flex;align-items: stretch;justify-content: center;background-color: white;position: relative;}#sk-container-id-1 div.sk-item::before, #sk-container-id-1 div.sk-parallel-item::before {content: \"\";position: absolute;border-left: 1px solid gray;box-sizing: border-box;top: 0;bottom: 0;left: 50%;z-index: -1;}#sk-container-id-1 div.sk-parallel-item {display: flex;flex-direction: column;z-index: 1;position: relative;background-color: white;}#sk-container-id-1 div.sk-parallel-item:first-child::after {align-self: flex-end;width: 50%;}#sk-container-id-1 div.sk-parallel-item:last-child::after {align-self: flex-start;width: 50%;}#sk-container-id-1 div.sk-parallel-item:only-child::after {width: 0;}#sk-container-id-1 div.sk-dashed-wrapped {border: 1px dashed gray;margin: 0 0.4em 0.5em 0.4em;box-sizing: border-box;padding-bottom: 0.4em;background-color: white;}#sk-container-id-1 div.sk-label label {font-family: monospace;font-weight: bold;display: inline-block;line-height: 1.2em;}#sk-container-id-1 div.sk-label-container {text-align: center;}#sk-container-id-1 div.sk-container {/* jupyter's `normalize.less` sets `[hidden] { display: none; }` but bootstrap.min.css set `[hidden] { display: none !important; }` so we also need the `!important` here to be able to override the default hidden behavior on the sphinx rendered scikit-learn.org. See: https://github.com/scikit-learn/scikit-learn/issues/21755 */display: inline-block !important;position: relative;}#sk-container-id-1 div.sk-text-repr-fallback {display: none;}</style><div id=\"sk-container-id-1\" class=\"sk-top-container\"><div class=\"sk-text-repr-fallback\"><pre>SVC()</pre><b>In a Jupyter environment, please rerun this cell to show the HTML representation or trust the notebook. <br />On GitHub, the HTML representation is unable to render, please try loading this page with nbviewer.org.</b></div><div class=\"sk-container\" hidden><div class=\"sk-item\"><div class=\"sk-estimator sk-toggleable\"><input class=\"sk-toggleable__control sk-hidden--visually\" id=\"sk-estimator-id-1\" type=\"checkbox\" checked><label for=\"sk-estimator-id-1\" class=\"sk-toggleable__label sk-toggleable__label-arrow\">SVC</label><div class=\"sk-toggleable__content\"><pre>SVC()</pre></div></div></div></div></div>"
      ],
      "text/plain": [
       "SVC()"
      ]
     },
     "execution_count": 12,
     "metadata": {},
     "output_type": "execute_result"
    }
   ],
   "source": [
    "# SVM model initialization and training\n",
    "svm_classifier = SVC(kernel='rbf', C=1.0, gamma='scale')\n",
    "svm_classifier.fit(X_train_scaled, y_train)"
   ]
  },
  {
   "cell_type": "markdown",
   "metadata": {
    "id": "mHtQOV9i8Jvz"
   },
   "source": [
    "Experimenting with different SVM kernels and parameters to find the optimal model for task."
   ]
  },
  {
   "cell_type": "code",
   "execution_count": 13,
   "metadata": {
    "colab": {
     "base_uri": "https://localhost:8080/"
    },
    "id": "kpX3WYacupdy",
    "outputId": "68cdd66d-ae7e-4769-9e67-11c9648c3eac"
   },
   "outputs": [
    {
     "name": "stdout",
     "output_type": "stream",
     "text": [
      "Best Parameters: {'C': 100, 'gamma': 0.01, 'kernel': 'rbf'}\n"
     ]
    }
   ],
   "source": [
    "# Hyperparameter tuning using GridSearchCV\n",
    "param_grid = {'C': [0.1, 1, 10, 100],\n",
    "              'gamma': [1, 0.1, 0.01, 0.001],\n",
    "              'kernel': ['linear', 'rbf', 'poly', 'sigmoid']}\n",
    "grid_search = GridSearchCV(SVC(), param_grid, cv=5, scoring='accuracy')\n",
    "grid_search.fit(X_train_scaled, y_train)\n",
    "best_params = grid_search.best_params_\n",
    "print(\"Best Parameters:\", best_params)\n",
    "best_model = grid_search.best_estimator_"
   ]
  },
  {
   "cell_type": "code",
   "execution_count": 14,
   "metadata": {
    "colab": {
     "base_uri": "https://localhost:8080/"
    },
    "id": "iX360PTLupgg",
    "outputId": "7c62963b-eb6f-4cc0-83e9-c2cda694125d"
   },
   "outputs": [
    {
     "name": "stdout",
     "output_type": "stream",
     "text": [
      "Accuracy: 0.9666666666666667\n",
      "Precision: 0.9694444444444444\n",
      "Recall: 0.9666666666666667\n",
      "F1 Score: 0.9664109121909632\n"
     ]
    }
   ],
   "source": [
    "# Model evaluation on the test set\n",
    "y_pred = best_model.predict(X_test_scaled)\n",
    "accuracy = accuracy_score(y_test, y_pred)\n",
    "precision = precision_score(y_test, y_pred, average='weighted')\n",
    "recall = recall_score(y_test, y_pred, average='weighted')\n",
    "f1 = f1_score(y_test, y_pred, average='weighted')\n",
    "print(\"Accuracy:\", accuracy)\n",
    "print(\"Precision:\", precision)\n",
    "print(\"Recall:\", recall)\n",
    "print(\"F1 Score:\", f1)"
   ]
  },
  {
   "cell_type": "markdown",
   "metadata": {
    "id": "8YwQ2UO07F9H"
   },
   "source": [
    "K - fold Cross-Validation"
   ]
  },
  {
   "cell_type": "code",
   "execution_count": 15,
   "metadata": {
    "colab": {
     "base_uri": "https://localhost:8080/"
    },
    "id": "t7Wf-KOLupjK",
    "outputId": "7b36c8d2-02b6-4e12-df71-abca36953710"
   },
   "outputs": [
    {
     "name": "stdout",
     "output_type": "stream",
     "text": [
      "Cross-Validation Scores: [0.95833333 1.         0.83333333 1.         0.95833333]\n",
      "Mean CV Accuracy: 0.95\n"
     ]
    }
   ],
   "source": [
    "# K-fold Cross-Validation\n",
    "k = 5\n",
    "cv_scores = cross_val_score(svm_classifier, X_train_scaled, y_train, cv=k)\n",
    "print(\"Cross-Validation Scores:\", cv_scores)\n",
    "print(\"Mean CV Accuracy:\", np.mean(cv_scores))"
   ]
  },
  {
   "cell_type": "markdown",
   "metadata": {
    "id": "1nGCNHZ-7kiK"
   },
   "source": [
    "Evaluation Metrics"
   ]
  },
  {
   "cell_type": "code",
   "execution_count": 25,
   "metadata": {
    "colab": {
     "base_uri": "https://localhost:8080/"
    },
    "id": "KHa9rpjN7VpT",
    "outputId": "6bd6a678-4011-4f79-ba76-2a34cc11fe7d"
   },
   "outputs": [
    {
     "name": "stdout",
     "output_type": "stream",
     "text": [
      "Accuracy: 1.0\n",
      "Precision: 1.0\n",
      "Recall: 1.0\n",
      "F1 Score: 1.0\n"
     ]
    }
   ],
   "source": [
    "# Evaluation Metrics\n",
    "y_pred = svm_classifier.predict(X_test_scaled) # Predictions on the test set\n",
    "accuracy = accuracy_score(y_test, y_pred) # Calculate accuracy\n",
    "precision = precision_score(y_test, y_pred, average='weighted') # Calculate precision\n",
    "recall = recall_score(y_test, y_pred, average='weighted') # Calculate recall\n",
    "f1 = f1_score(y_test, y_pred, average='weighted') # Calculate F1 score\n",
    "\n",
    "# Print evaluation metrics\n",
    "print(\"Accuracy:\", accuracy)\n",
    "print(\"Precision:\", precision)\n",
    "print(\"Recall:\", recall)\n",
    "print(\"F1 Score:\", f1)"
   ]
  },
  {
   "cell_type": "markdown",
   "metadata": {
    "id": "U6Qt3utQ7w5x"
   },
   "source": [
    "Visualizing the results\n",
    "\n",
    "Calculated the accuarcy, precision, recall and F1- score"
   ]
  },
  {
   "cell_type": "code",
   "execution_count": 17,
   "metadata": {
    "colab": {
     "base_uri": "https://localhost:8080/",
     "height": 564
    },
    "id": "aDlkIkLsuppW",
    "outputId": "a8d15fa3-ec43-4f59-b21f-fbeb229799c5"
   },
   "outputs": [
    {
     "data": {
      "image/png": "[encoded data removed]",
      "text/plain": [
       "<Figure size 1000x600 with 1 Axes>"
      ]
     },
     "metadata": {},
     "output_type": "display_data"
    }
   ],
   "source": [
    "# Learning Curve\n",
    "train_sizes, train_scores, test_scores = learning_curve(svm_classifier, X_train_scaled, y_train, cv=5,\n",
    "                                                        train_sizes=np.linspace(.1, 1.0, 5))\n",
    "train_mean = np.mean(train_scores, axis=1)\n",
    "train_std = np.std(train_scores, axis=1)\n",
    "test_mean = np.mean(test_scores, axis=1)\n",
    "test_std = np.std(test_scores, axis=1)\n",
    "plt.figure(figsize=(10, 6))\n",
    "plt.plot(train_sizes, train_mean, 'o-', color=\"r\", label=\"Training score\")\n",
    "plt.plot(train_sizes, test_mean, 'o-', color=\"g\", label=\"Cross-validation score\")\n",
    "plt.fill_between(train_sizes, train_mean - train_std, train_mean + train_std, alpha=0.1, color=\"r\")\n",
    "plt.fill_between(train_sizes, test_mean - test_std, test_mean + test_std, alpha=0.1, color=\"g\")\n",
    "plt.xlabel(\"Training examples\")\n",
    "plt.ylabel(\"Score\")\n",
    "plt.title(\"Learning Curve\")\n",
    "plt.legend(loc=\"best\")\n",
    "plt.show()"
   ]
  },
  {
   "cell_type": "code",
   "execution_count": 22,
   "metadata": {
    "colab": {
     "base_uri": "https://localhost:8080/",
     "height": 564
    },
    "id": "BOKDhnabwpA9",
    "outputId": "dae37278-50ad-4e7a-d455-e939db30c3d4"
   },
   "outputs": [
    {
     "data": {
      "image/png": "[encoded data removed]",
      "text/plain": [
       "<Figure size 800x600 with 1 Axes>"
      ]
     },
     "metadata": {},
     "output_type": "display_data"
    }
   ],
   "source": [
    "# Calculate confusion matrix\n",
    "conf_matrix = confusion_matrix(y_test, y_pred)  # Compute the confusion matrix\n",
    "\n",
    "# Plot confusion matrix\n",
    "plt.figure(figsize=(8, 6))  # Set figure size for the plot\n",
    "sns.heatmap(conf_matrix, annot=True, fmt='d', cmap='Blues', cbar=False)  # Plot heatmap of the confusion matrix\n",
    "plt.title('Confusion Matrix')  # Set title of the plot\n",
    "plt.xlabel('Predicted Label')  # Set x-axis label\n",
    "plt.ylabel('True Label')  # Set y-axis label\n",
    "plt.show()  # Display the plot\n"
   ]
  },
  {
   "cell_type": "code",
   "execution_count": 4,
   "metadata": {
    "colab": {
     "base_uri": "https://localhost:8080/"
    },
    "id": "i4miJszJvVB_",
    "outputId": "68e8fe8a-4ff3-4201-bfdf-98d561a38055"
   },
   "outputs": [
    {
     "name": "stdout",
     "output_type": "stream",
     "text": [
      " REPORT\n",
      "\n",
      "1. Data Exploration and Preprocessing: Explored and preprocessed the Iris dataset, handling missing values, scaling features, and encoding categorical variables.\n",
      "   The dataset comprised 150 rows and 4 columns, with no missing values detected.\n",
      "\n",
      "2. SVM Implementation: Implemented an SVM classifier with various kernels and optimized hyperparameters through grid search.\n",
      "   The best parameters obtained were {'C': 100, 'gamma': 0.01, 'kernel': 'rbf'}.\n",
      "\n",
      "   Achieved performance metrics include Accuracy: 0.967, Precision: 0.969, Recall: 0.967, and F1 Score: 0.966.\n",
      "3. K-fold Cross-Validation: Utilized K-fold cross-validation with k=5 to validate model performance.\n",
      "   The mean cross-validation accuracy obtained manually and using cross_val_score was 0.95.\n",
      "\n",
      "4. Model Evaluation: Evaluated the SVM model's performance using accuracy, precision, recall, and F1-score metrics.\n",
      "   The model demonstrated exceptional performance with Accuracy: 1.0, Precision: 1.0, Recall: 1.0, and F1 Score: 1.0.\n",
      "\n",
      "5. Visualization: Leveraged visualizations such as confusion matrix, ROC curve, precision-recall curve, and learning curve to gain insights into the model's behavior and performance.\n",
      "   These visualizations aided in understanding the model's strengths and weaknesses.\n",
      "\n",
      "Git hub link : https://github.com/iamchenchu/Machine-Learning-Models/blob/main/Machine_Learning_Project.ipynb\n",
      "\n"
     ]
    }
   ],
   "source": [
    "report =\"\"\" REPORT\n",
    "\n",
    "1. Data Exploration and Preprocessing: Explored and preprocessed the Iris dataset, handling missing values, scaling features, and encoding categorical variables.\n",
    "   The dataset comprised 150 rows and 4 columns, with no missing values detected.\n",
    "\n",
    "2. SVM Implementation: Implemented an SVM classifier with various kernels and optimized hyperparameters through grid search.\n",
    "   The best parameters obtained were {'C': 100, 'gamma': 0.01, 'kernel': 'rbf'}.\n",
    "\n",
    "   Achieved performance metrics include Accuracy: 0.967, Precision: 0.969, Recall: 0.967, and F1 Score: 0.966.\n",
    "3. K-fold Cross-Validation: Utilized K-fold cross-validation with k=5 to validate model performance.\n",
    "   The mean cross-validation accuracy obtained manually and using cross_val_score was 0.95.\n",
    "\n",
    "4. Model Evaluation: Evaluated the SVM model's performance using accuracy, precision, recall, and F1-score metrics.\n",
    "   The model demonstrated exceptional performance with Accuracy: 1.0, Precision: 1.0, Recall: 1.0, and F1 Score: 1.0.\n",
    "\n",
    "5. Visualization: Leveraged visualizations such as confusion matrix, ROC curve, precision-recall curve, and learning curve to gain insights into the model's behavior and performance.\n",
    "   These visualizations aided in understanding the model's strengths and weaknesses.\n",
    "\n",
    "Git hub link : https://github.com/iamchenchu/Machine-Learning-Models/blob/main/Machine_Learning_Project.ipynb\n",
    "\"\"\"\n",
    "\n",
    "print (report)\n"
   ]
  },
  {
   "cell_type": "code",
   "execution_count": 26,
   "metadata": {
    "id": "HSU0pojmvVE_"
   },
   "outputs": [],
   "source": []
  },
  {
   "cell_type": "code",
   "execution_count": null,
   "metadata": {
    "id": "hgxI8TOvvVIy"
   },
   "outputs": [],
   "source": []
  },
  {
   "cell_type": "code",
   "execution_count": null,
   "metadata": {
    "id": "f_WpdjZAvVLR"
   },
   "outputs": [],
   "source": []
  },
  {
   "cell_type": "code",
   "execution_count": null,
   "metadata": {
    "id": "2kMPTj62vVOs"
   },
   "outputs": [],
   "source": []
  }
 ],
 "metadata": {
  "colab": {
   "provenance": []
  },
  "kernelspec": {
   "display_name": "Python 3 (ipykernel)",
   "language": "python",
   "name": "python3"
  },
  "language_info": {
   "codemirror_mode": {
    "name": "ipython",
    "version": 3
   },
   "file_extension": ".py",
   "mimetype": "text/x-python",
   "name": "python",
   "nbconvert_exporter": "python",
   "pygments_lexer": "ipython3",
   "version": "3.8.18"
  }
 },
 "nbformat": 4,
 "nbformat_minor": 4
}
