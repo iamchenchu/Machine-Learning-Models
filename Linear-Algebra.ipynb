{
 "cells": [
  {
   "cell_type": "markdown",
   "id": "576ba90d-792d-4dbb-8949-ce39212458af",
   "metadata": {},
   "source": [
    "**Solving Linear Systerms : 2 variables**\n",
    "\n",
    "We will be using the numpy which is a linear algebra package for practicing this part of mathematics\n"
   ]
  },
  {
   "cell_type": "code",
   "execution_count": 7,
   "id": "8f91c13f-8106-4cc2-a819-74637fef0ab7",
   "metadata": {},
   "outputs": [],
   "source": [
    "# Importing the numpy package which contains all the Linear algebra functions \n",
    "\n",
    "import numpy as np"
   ]
  },
  {
   "cell_type": "markdown",
   "id": "d650cc3d-0e20-460d-a55a-2808c010972d",
   "metadata": {},
   "source": [
    "# Let's see how to represent the system of linear equations using matrices \n",
    "\n",
    "1. A **system of linear equations** (or **linear system**) is a collection of one or more linear equations involving the same variables. For example:\n",
    "\n",
    "2. Solving Systems of Linear Equa"
   ]
  },
  {
   "cell_type": "code",
   "execution_count": 6,
   "id": "0e1090d0-e555-43c0-97b2-513cfa7f5251",
   "metadata": {},
   "outputs": [
    {
     "name": "stdout",
     "output_type": "stream",
     "text": [
      "Matrix A is  :[[-1.  3.]\n",
      " [ 3.  2.]]\n",
      "Matrix B is  : [7. 1.]\n"
     ]
    }
   ],
   "source": [
    "A = np.array([[-1, 3], [3, 2]], dtype =np.dtype(float))\n",
    "b = np.array([7, 1], dtype = np.dtype(float))\n",
    "\n",
    "print(f\"Matrix A is  :{A}\")\n",
    "print(f\"Matrix B is  : {b}\")"
   ]
  },
  {
   "cell_type": "code",
   "execution_count": 8,
   "id": "6d4cf8f3-503b-47e1-a5c2-1914175f4e0d",
   "metadata": {},
   "outputs": [
    {
     "name": "stdout",
     "output_type": "stream",
     "text": [
      "Shape of A : (2, 2)\n",
      "Shape of B : (2,)\n"
     ]
    }
   ],
   "source": [
    "# Check the dimensions of the arrays\n",
    "print(f\"Shape of A : {A.shape}\")\n",
    "print(f\"Shape of B : {B.shape}\")"
   ]
  },
  {
   "cell_type": "code",
   "execution_count": 12,
   "id": "1b1a562b-945f-4345-a587-47740b28d535",
   "metadata": {},
   "outputs": [
    {
     "name": "stdout",
     "output_type": "stream",
     "text": [
      "The determinant of the matrix A is : -11.00\n"
     ]
    }
   ],
   "source": [
    "# Finding the determinant of A\n",
    "\n",
    "det = np.linalg.det(A)\n",
    "print(f\"The determinant of the matrix A is : {det:.2f}\")"
   ]
  },
  {
   "cell_type": "code",
   "execution_count": null,
   "id": "e08db4fa-a01c-426c-ab12-c0c2cb5ecfd2",
   "metadata": {},
   "outputs": [],
   "source": []
  },
  {
   "cell_type": "code",
   "execution_count": null,
   "id": "65a14ad3-9f56-4762-947c-53a0f2d61521",
   "metadata": {},
   "outputs": [],
   "source": []
  },
  {
   "cell_type": "code",
   "execution_count": null,
   "id": "05f4a4ef-28b2-4cf9-8416-103040397246",
   "metadata": {},
   "outputs": [],
   "source": []
  },
  {
   "cell_type": "code",
   "execution_count": null,
   "id": "9f35498f-346d-4e2e-bb0b-0b1b845b1466",
   "metadata": {},
   "outputs": [],
   "source": []
  },
  {
   "cell_type": "code",
   "execution_count": null,
   "id": "aa5e6128-ce74-49bb-b907-16c906e2ccbb",
   "metadata": {},
   "outputs": [],
   "source": []
  },
  {
   "cell_type": "code",
   "execution_count": null,
   "id": "0dad66af-9220-4de0-8e65-97d6927f0737",
   "metadata": {},
   "outputs": [],
   "source": []
  }
 ],
 "metadata": {
  "kernelspec": {
   "display_name": "Python 3 (ipykernel)",
   "language": "python",
   "name": "python3"
  },
  "language_info": {
   "codemirror_mode": {
    "name": "ipython",
    "version": 3
   },
   "file_extension": ".py",
   "mimetype": "text/x-python",
   "name": "python",
   "nbconvert_exporter": "python",
   "pygments_lexer": "ipython3",
   "version": "3.11.5"
  }
 },
 "nbformat": 4,
 "nbformat_minor": 5
}
