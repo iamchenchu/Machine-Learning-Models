{
 "cells": [
  {
   "cell_type": "code",
   "execution_count": 15,
   "id": "f2be6b71",
   "metadata": {},
   "outputs": [
    {
     "name": "stdout",
     "output_type": "stream",
     "text": [
      "tensor([[ 0.,  1.,  2.,  3.,  4.,  5.],\n",
      "        [ 6.,  7.,  8.,  9., 10., 11.],\n",
      "        [12., 13., 14., 15., 16., 17.],\n",
      "        [18., 19., 20., 21., 22., 23.],\n",
      "        [24., 25., 26., 27., 28., 29.],\n",
      "        [30., 31., 32., 33., 34., 35.],\n",
      "        [36., 37., 38., 39., 40., 41.]])\n",
      "torch.float32\n"
     ]
    }
   ],
   "source": [
    "import torch\n",
    "\n",
    "X = torch.arange(42, dtype=torch.float).reshape(7,6)\n",
    "print(X)\n",
    "print(X.dtype)"
   ]
  },
  {
   "cell_type": "code",
   "execution_count": 10,
   "id": "85080909",
   "metadata": {},
   "outputs": [],
   "source": [
    "fc_layer = torch.nn.Linear(in_features=6,   # m = 6\n",
    "                           out_features=3)  # b = 3"
   ]
  },
  {
   "cell_type": "code",
   "execution_count": 5,
   "id": "9640b3e0",
   "metadata": {},
   "outputs": [
    {
     "data": {
      "text/plain": [
       "Parameter containing:\n",
       "tensor([[-0.0564,  0.0532, -0.2943, -0.0947,  0.2045,  0.1955],\n",
       "        [ 0.0598,  0.2906,  0.0505, -0.3370,  0.2876,  0.1532],\n",
       "        [-0.1450, -0.1516, -0.1789,  0.3409,  0.3760,  0.2691]],\n",
       "       requires_grad=True)"
      ]
     },
     "execution_count": 5,
     "metadata": {},
     "output_type": "execute_result"
    }
   ],
   "source": [
    "fc_layer.weight # should be equal to 6*3"
   ]
  },
  {
   "cell_type": "code",
   "execution_count": 6,
   "id": "566bd17f",
   "metadata": {},
   "outputs": [
    {
     "data": {
      "text/plain": [
       "Parameter containing:\n",
       "tensor([-0.3986, -0.1878, -0.4041], requires_grad=True)"
      ]
     },
     "execution_count": 6,
     "metadata": {},
     "output_type": "execute_result"
    }
   ],
   "source": [
    "fc_layer.bias # should be equal to number of outputs 3"
   ]
  },
  {
   "cell_type": "code",
   "execution_count": 7,
   "id": "5ede86e9",
   "metadata": {},
   "outputs": [
    {
     "name": "stdout",
     "output_type": "stream",
     "text": [
      "X dim:  torch.Size([7, 6])\n",
      "X dim:  torch.Size([7, 6])\n",
      "\n",
      "W dim:  torch.Size([3, 6])\n",
      "W dim:  torch.Size([3, 6])\n",
      "\n",
      "b dim:  torch.Size([3])\n",
      "b dim:  torch.Size([3])\n",
      "\n"
     ]
    }
   ],
   "source": [
    "# Fully connected layer\n",
    "# .size() is equilant to .shape\n",
    "\n",
    "print(\"X dim: \", X.size())\n",
    "print(\"X dim: \", X.shape)\n",
    "print()\n",
    "print(\"W dim: \", fc_layer.weight.size())\n",
    "print(\"W dim: \", fc_layer.weight.shape)\n",
    "print()\n",
    "print(\"b dim: \", fc_layer.bias.size())\n",
    "print(\"b dim: \", fc_layer.bias.shape)\n",
    "print()"
   ]
  },
  {
   "cell_type": "code",
   "execution_count": 9,
   "id": "df38d9e0",
   "metadata": {},
   "outputs": [
    {
     "name": "stdout",
     "output_type": "stream",
     "text": [
      "Linear output:  tensor([[ 0.5773,  1.1095,  2.9586],\n",
      "        [ 0.6240,  4.1380,  6.0215],\n",
      "        [ 0.6708,  7.1665,  9.0844],\n",
      "        [ 0.7175, 10.1950, 12.1473],\n",
      "        [ 0.7642, 13.2235, 15.2102],\n",
      "        [ 0.8109, 16.2520, 18.2731],\n",
      "        [ 0.8577, 19.2805, 21.3360]], grad_fn=<AddmmBackward0>)\n"
     ]
    }
   ],
   "source": [
    "# X is your input tensor\n",
    "# Apply the linear transfrmation \n",
    "linear_output = fc_layer(X)\n",
    "\n",
    "# Linear_output : output tensor after the input tensor X has been passes through the linear layer\n",
    "# matrix multiplication and addition of biases\n",
    "\n",
    "print(\"Linear output: \", linear_output)\n"
   ]
  },
  {
   "cell_type": "code",
   "execution_count": 18,
   "id": "b686cd2a",
   "metadata": {},
   "outputs": [
    {
     "name": "stdout",
     "output_type": "stream",
     "text": [
      "CUDA Available: False\n",
      "No CUDA-compatible GPU found. Operations will run on the CPU.\n"
     ]
    }
   ],
   "source": [
    "import torch\n",
    "\n",
    "# Check if CUDA (GPU support) is available\n",
    "cuda_available = torch.cuda.is_available()\n",
    "print(f\"CUDA Available: {cuda_available}\")\n",
    "\n",
    "# If CUDA is not available, it's likely because you're on a MacBook or other non-Nvidia GPU system\n",
    "# PyTorch 1.12 and newer might support Apple Silicon (M1/M2) GPUs through Metal but that's a different setup\n",
    "\n",
    "if cuda_available:\n",
    "    # Print the number of GPUs available\n",
    "    print(f\"Number of GPUs: {torch.cuda.device_count()}\")\n",
    "    \n",
    "    # Print the name of the first GPU\n",
    "    print(f\"GPU Name: {torch.cuda.get_device_name(0)}\")\n",
    "else:\n",
    "    print(\"No CUDA-compatible GPU found. Operations will run on the CPU.\")\n"
   ]
  },
  {
   "cell_type": "code",
   "execution_count": null,
   "id": "2ad7bb43",
   "metadata": {},
   "outputs": [],
   "source": []
  }
 ],
 "metadata": {
  "kernelspec": {
   "display_name": "Python 3 (ipykernel)",
   "language": "python",
   "name": "python3"
  },
  "language_info": {
   "codemirror_mode": {
    "name": "ipython",
    "version": 3
   },
   "file_extension": ".py",
   "mimetype": "text/x-python",
   "name": "python",
   "nbconvert_exporter": "python",
   "pygments_lexer": "ipython3",
   "version": "3.11.5"
  }
 },
 "nbformat": 4,
 "nbformat_minor": 5
}
