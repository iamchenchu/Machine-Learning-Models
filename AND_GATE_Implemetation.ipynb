{
 "cells": [
  {
   "cell_type": "markdown",
   "id": "443930ff",
   "metadata": {},
   "source": [
    "### This code is to implemet the AND gate implentation of artificial neuron\n",
    "\n",
    "where we will use hit and trail method to implement the w1, w2 and b until we get the desired output \n",
    "\n"
   ]
  },
  {
   "cell_type": "code",
   "execution_count": 19,
   "id": "e6c58d88",
   "metadata": {},
   "outputs": [],
   "source": [
    "import pandas as pd\n",
    "\n",
    "w1 = 1\n",
    "w2 = 1\n",
    "b = -1.5\n",
    "\n",
    "inputs = [(0,0), (0,1), (1,0), (1,1)]\n",
    "correct_outputs = [0, 0, 0, 1]\n",
    "pred_outputs = []"
   ]
  },
  {
   "cell_type": "code",
   "execution_count": 20,
   "id": "b28e60ee",
   "metadata": {},
   "outputs": [
    {
     "name": "stdout",
     "output_type": "stream",
     "text": [
      "All correct\n",
      "   Input 1  Input 2    z  Pred Output Is Correct?\n",
      "0        0        0 -1.5            0         YES\n",
      "1        0        1 -0.5            0         YES\n",
      "2        1        0 -0.5            0         YES\n",
      "3        1        1  0.5            1         YES\n"
     ]
    }
   ],
   "source": [
    "for input, correct_output in zip(inputs, correct_outputs):\n",
    "    z = input[0]*w1 + input[1]*w2 + b\n",
    "    pred_output = int(z >= 0)  # Correctly calculate the prediction here\n",
    "    is_correct = 'YES' if pred_output == correct_output else 'NO'  # Corrected variable name\n",
    "    pred_outputs.append([input[0], input[1], z, pred_output, is_correct])\n",
    "    \n",
    "\n",
    "num_wrong = len([pred_output[4] for pred_output in pred_outputs if pred_output[4] == 'NO'])\n",
    "\n",
    "\n",
    "output_df = pd.DataFrame(pred_outputs, columns = ['Input 1', 'Input 2', 'z', 'Pred Output', 'Is Correct?'])\n",
    "\n",
    "if not num_wrong:\n",
    "    print(\"All correct\")\n",
    "else:\n",
    "    print(f\"You got {num_wrong} wrong\")  \n",
    "    \n",
    "print(output_df)"
   ]
  },
  {
   "cell_type": "code",
   "execution_count": 21,
   "id": "48a0148c",
   "metadata": {},
   "outputs": [
    {
     "name": "stdout",
     "output_type": "stream",
     "text": [
      "0\n"
     ]
    }
   ],
   "source": [
    "print(num_wrong)"
   ]
  },
  {
   "cell_type": "code",
   "execution_count": null,
   "id": "7b92a102",
   "metadata": {},
   "outputs": [],
   "source": []
  }
 ],
 "metadata": {
  "kernelspec": {
   "display_name": "Python 3 (ipykernel)",
   "language": "python",
   "name": "python3"
  },
  "language_info": {
   "codemirror_mode": {
    "name": "ipython",
    "version": 3
   },
   "file_extension": ".py",
   "mimetype": "text/x-python",
   "name": "python",
   "nbconvert_exporter": "python",
   "pygments_lexer": "ipython3",
   "version": "3.11.5"
  }
 },
 "nbformat": 4,
 "nbformat_minor": 5
}
