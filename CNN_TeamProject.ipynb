{
  "cells": [
    {
      "cell_type": "markdown",
      "source": [
        "CSC 722 - Machine Learning Fundamentals\n",
        "\n",
        "CNN Team Project\n",
        "\n",
        "Team Members:\n",
        "1. Dheeraj Avadhutha - 101129707\n",
        "2. Pranav Reddy Dareddy - 101134583\n",
        "3. Vamsi Yadala - 101130145\n",
        "4. Sri Mukund Kadiyala - 101134587\n",
        "5. Chenchaiah Mekalathuru - 101165473\n",
        "6. Sai Krishna Yadav Madiboyena - 101132195\n",
        "7. Shanmukh Sai Madhu - 101162913\n",
        "8. Pavan Kumar Balli - 101136776\n",
        "9. Sai Rajesh Chittavarjula - 101179899\n",
        "10. Rohit Mareddy - 101134589\n"
      ],
      "metadata": {
        "id": "HH9PNGrrA67W"
      }
    },
    {
      "cell_type": "code",
      "execution_count": 3,
      "metadata": {
        "id": "miLgCxIdDnQZ"
      },
      "outputs": [],
      "source": [
        "from tensorflow.keras.models import Sequential\n",
        "from tensorflow.keras.layers import Conv2D, MaxPooling2D, Flatten, Dense\n",
        "\n",
        "# Create a Convolutional Neural Network (CNN) model\n",
        "cnn_model = Sequential([\n",
        "    Conv2D(32, (3, 3), activation='relu', input_shape=(28, 28, 1)),\n",
        "    MaxPooling2D((2, 2)),\n",
        "    Conv2D(64, (3, 3), activation='relu'),\n",
        "    MaxPooling2D((2, 2)),\n",
        "    Conv2D(64, (3, 3), activation='relu'),\n",
        "    Flatten(),\n",
        "    Dense(64, activation='relu'),\n",
        "    Dense(10, activation='softmax')\n",
        "])"
      ]
    },
    {
      "cell_type": "code",
      "execution_count": 1,
      "metadata": {
        "id": "2SNk96dtDga1"
      },
      "outputs": [],
      "source": [
        "import tensorflow as tf\n",
        "from tensorflow.keras.datasets import mnist\n",
        "from tensorflow.keras.utils import to_categorical"
      ]
    },
    {
      "cell_type": "code",
      "execution_count": 2,
      "metadata": {
        "colab": {
          "base_uri": "https://localhost:8080/",
          "height": 0
        },
        "id": "dARTmFzWDnNq",
        "outputId": "c4c1c9de-59f2-48cc-887e-1f7555c8dc23"
      },
      "outputs": [
        {
          "output_type": "stream",
          "name": "stdout",
          "text": [
            "Downloading data from https://storage.googleapis.com/tensorflow/tf-keras-datasets/mnist.npz\n",
            "11490434/11490434 [==============================] - 0s 0us/step\n"
          ]
        }
      ],
      "source": [
        "# Load and preprocess the MNIST dataset\n",
        "(train_images, train_labels), (test_images, test_labels) = mnist.load_data()\n",
        "train_images = train_images.reshape(-1, 28, 28, 1) / 255.0\n",
        "test_images = test_images.reshape(-1, 28, 28, 1) / 255.0\n",
        "train_labels = to_categorical(train_labels, num_classes=10)\n",
        "test_labels = to_categorical(test_labels, num_classes=10)"
      ]
    },
    {
      "cell_type": "code",
      "execution_count": 4,
      "metadata": {
        "colab": {
          "base_uri": "https://localhost:8080/",
          "height": 0
        },
        "id": "JrlyhhKODnTJ",
        "outputId": "bebce996-6500-442c-872d-e3b6d8fac1fc"
      },
      "outputs": [
        {
          "output_type": "stream",
          "name": "stdout",
          "text": [
            "Model: \"sequential\"\n",
            "_________________________________________________________________\n",
            " Layer (type)                Output Shape              Param #   \n",
            "=================================================================\n",
            " conv2d (Conv2D)             (None, 26, 26, 32)        320       \n",
            "                                                                 \n",
            " max_pooling2d (MaxPooling2  (None, 13, 13, 32)        0         \n",
            " D)                                                              \n",
            "                                                                 \n",
            " conv2d_1 (Conv2D)           (None, 11, 11, 64)        18496     \n",
            "                                                                 \n",
            " max_pooling2d_1 (MaxPoolin  (None, 5, 5, 64)          0         \n",
            " g2D)                                                            \n",
            "                                                                 \n",
            " conv2d_2 (Conv2D)           (None, 3, 3, 64)          36928     \n",
            "                                                                 \n",
            " flatten (Flatten)           (None, 576)               0         \n",
            "                                                                 \n",
            " dense (Dense)               (None, 64)                36928     \n",
            "                                                                 \n",
            " dense_1 (Dense)             (None, 10)                650       \n",
            "                                                                 \n",
            "=================================================================\n",
            "Total params: 93322 (364.54 KB)\n",
            "Trainable params: 93322 (364.54 KB)\n",
            "Non-trainable params: 0 (0.00 Byte)\n",
            "_________________________________________________________________\n"
          ]
        }
      ],
      "source": [
        "# Display model summary\n",
        "cnn_model.summary()\n",
        "\n",
        "from tensorflow.keras.layers import MaxPooling2D"
      ]
    },
    {
      "cell_type": "code",
      "execution_count": 5,
      "metadata": {
        "id": "JvNT_7s7DnVy"
      },
      "outputs": [],
      "source": [
        "# Example of max pooling layer\n",
        "max_pool_layer = MaxPooling2D(pool_size=(2, 2))\n",
        "\n",
        "from tensorflow.keras.layers import Dense"
      ]
    },
    {
      "cell_type": "code",
      "execution_count": 6,
      "metadata": {
        "id": "1vZ0eamFDnYU"
      },
      "outputs": [],
      "source": [
        "# Fully connected layer followed by softmax\n",
        "fc_layer = Dense(64, activation='relu')\n",
        "softmax_layer = Dense(10, activation='softmax')"
      ]
    },
    {
      "cell_type": "code",
      "execution_count": 7,
      "metadata": {
        "colab": {
          "base_uri": "https://localhost:8080/",
          "height": 0
        },
        "id": "klJNqb18Dna5",
        "outputId": "3424cbdc-f3cb-477f-d196-6ebea71307cc"
      },
      "outputs": [
        {
          "output_type": "stream",
          "name": "stdout",
          "text": [
            "Epoch 1/10\n",
            "469/469 [==============================] - 57s 118ms/step - loss: 0.2497 - accuracy: 0.9241 - val_loss: 0.0660 - val_accuracy: 0.9791\n",
            "Epoch 2/10\n",
            "469/469 [==============================] - 48s 102ms/step - loss: 0.0627 - accuracy: 0.9804 - val_loss: 0.0514 - val_accuracy: 0.9833\n",
            "Epoch 3/10\n",
            "469/469 [==============================] - 51s 108ms/step - loss: 0.0426 - accuracy: 0.9865 - val_loss: 0.0347 - val_accuracy: 0.9887\n",
            "Epoch 4/10\n",
            "469/469 [==============================] - 49s 104ms/step - loss: 0.0334 - accuracy: 0.9898 - val_loss: 0.0303 - val_accuracy: 0.9896\n",
            "Epoch 5/10\n",
            "469/469 [==============================] - 49s 104ms/step - loss: 0.0278 - accuracy: 0.9910 - val_loss: 0.0373 - val_accuracy: 0.9883\n",
            "Epoch 6/10\n",
            "469/469 [==============================] - 49s 104ms/step - loss: 0.0223 - accuracy: 0.9931 - val_loss: 0.0336 - val_accuracy: 0.9888\n",
            "Epoch 7/10\n",
            "469/469 [==============================] - 50s 107ms/step - loss: 0.0193 - accuracy: 0.9937 - val_loss: 0.0293 - val_accuracy: 0.9899\n",
            "Epoch 8/10\n",
            "469/469 [==============================] - 53s 113ms/step - loss: 0.0150 - accuracy: 0.9952 - val_loss: 0.0289 - val_accuracy: 0.9905\n",
            "Epoch 9/10\n",
            "469/469 [==============================] - 50s 107ms/step - loss: 0.0136 - accuracy: 0.9956 - val_loss: 0.0319 - val_accuracy: 0.9901\n",
            "Epoch 10/10\n",
            "469/469 [==============================] - 47s 101ms/step - loss: 0.0098 - accuracy: 0.9969 - val_loss: 0.0284 - val_accuracy: 0.9919\n"
          ]
        }
      ],
      "source": [
        "# Compile and train the CNN model\n",
        "cnn_model.compile(optimizer='adam', loss='categorical_crossentropy', metrics=['accuracy'])\n",
        "history = cnn_model.fit(train_images, train_labels, epochs=10, batch_size=128, validation_data=(test_images, test_labels))\n"
      ]
    },
    {
      "cell_type": "code",
      "execution_count": 8,
      "metadata": {
        "colab": {
          "base_uri": "https://localhost:8080/",
          "height": 0
        },
        "id": "Y8Q_o3eMDndb",
        "outputId": "0d7c3fcb-65d1-42af-f3d4-6d036541b271"
      },
      "outputs": [
        {
          "output_type": "stream",
          "name": "stdout",
          "text": [
            "313/313 [==============================] - 3s 9ms/step - loss: 0.0284 - accuracy: 0.9919\n",
            "Test Accuracy: 0.9919000267982483\n"
          ]
        }
      ],
      "source": [
        "# Evaluate the model\n",
        "test_loss, test_accuracy = cnn_model.evaluate(test_images, test_labels)\n",
        "print(f'Test Accuracy: {test_accuracy}')\n",
        "\n",
        "from sklearn.model_selection import KFold\n",
        "from sklearn.metrics import confusion_matrix"
      ]
    },
    {
      "cell_type": "code",
      "execution_count": 9,
      "metadata": {
        "colab": {
          "base_uri": "https://localhost:8080/",
          "height": 0
        },
        "id": "SbNgdw84DngP",
        "outputId": "3b01fce6-cc39-46ba-cad6-55a31e9ea1de"
      },
      "outputs": [
        {
          "output_type": "stream",
          "name": "stdout",
          "text": [
            "1500/1500 [==============================] - 45s 30ms/step - loss: 0.0325 - accuracy: 0.9890\n",
            "375/375 [==============================] - 3s 9ms/step - loss: 0.0274 - accuracy: 0.9908\n",
            "Validation Accuracy: 0.9908333420753479\n",
            "375/375 [==============================] - 4s 10ms/step\n",
            "[[1155    0    0    0    1    0    1    0    2    1]\n",
            " [   0 1401    0    0    0    0    0    7    4    0]\n",
            " [   2    1 1151    1    0    0    0    5    1    0]\n",
            " [   2    0    2 1229    0    6    0    2    2    2]\n",
            " [   0    1    0    0 1094    0    1    4    6   13]\n",
            " [   0    0    1    1    0 1101    1    0    1    2]\n",
            " [   3    2    1    0    1    0 1159    0    2    0]\n",
            " [   0    1    3    0    0    0    0 1220    2    0]\n",
            " [   2    0    0    0    0    4    1    1 1169    2]\n",
            " [   0    0    0    1    2    2    0    3    4 1211]]\n",
            "1500/1500 [==============================] - 44s 29ms/step - loss: 0.0209 - accuracy: 0.9934\n",
            "375/375 [==============================] - 5s 12ms/step - loss: 0.0180 - accuracy: 0.9939\n",
            "Validation Accuracy: 0.9939166903495789\n",
            "375/375 [==============================] - 3s 9ms/step\n",
            "[[1191    0    0    0    0    0    0    0    0    1]\n",
            " [   0 1340    1    0    1    0    1    5    0    1]\n",
            " [   0    1 1155    2    0    0    0    3    0    1]\n",
            " [   1    0    4 1238    0    4    0    1    2    1]\n",
            " [   0    1    0    0 1155    0    0    2    0   10]\n",
            " [   0    0    0    1    0 1058    3    1    1    1]\n",
            " [   3    0    0    0    0    1 1191    0    0    0]\n",
            " [   0    0    1    0    0    0    0 1273    0    1]\n",
            " [   1    1    0    0    3    2    0    0 1175    8]\n",
            " [   0    0    0    0    2    0    0    0    0 1151]]\n",
            "1500/1500 [==============================] - 44s 30ms/step - loss: 0.0177 - accuracy: 0.9941\n",
            "375/375 [==============================] - 3s 9ms/step - loss: 0.0206 - accuracy: 0.9937\n",
            "Validation Accuracy: 0.9937499761581421\n",
            "375/375 [==============================] - 3s 9ms/step\n",
            "[[1187    0    2    1    0    1    0    0    0    0]\n",
            " [   0 1256    0    0    0    0    0    3    0    0]\n",
            " [   0    2 1189   10    0    0    0    3    0    0]\n",
            " [   0    1    0 1222    0    1    0    1    0    0]\n",
            " [   0    1    0    0 1194    0    2    4    0    1]\n",
            " [   0    0    0    3    0 1121    0    0    0    0]\n",
            " [   0    1    0    1    1    5 1183    0    8    0]\n",
            " [   0    0    0    0    0    0    0 1258    0    0]\n",
            " [   0    0    2    2    0    0    0    0 1128    1]\n",
            " [   0    2    0    1    3    1    0   11    0 1187]]\n",
            "1500/1500 [==============================] - 42s 28ms/step - loss: 0.0157 - accuracy: 0.9951\n",
            "375/375 [==============================] - 4s 10ms/step - loss: 0.0079 - accuracy: 0.9974\n",
            "Validation Accuracy: 0.9974166750907898\n",
            "375/375 [==============================] - 3s 9ms/step\n",
            "[[1174    0    0    0    0    0    2    0    1    0]\n",
            " [   0 1394    0    0    1    0    0    0    1    0]\n",
            " [   0    0 1213    0    1    0    0    0    0    0]\n",
            " [   0    0    1 1189    0    0    0    0    0    0]\n",
            " [   0    0    0    0 1217    0    1    0    0    1]\n",
            " [   1    0    0    1    0 1062    1    0    1    0]\n",
            " [   1    0    0    0    1    1 1137    0    0    0]\n",
            " [   0    5    1    1    1    0    0 1274    0    1]\n",
            " [   0    0    0    0    0    0    1    0 1115    1]\n",
            " [   0    2    0    0    1    0    0    1    0 1194]]\n",
            "1500/1500 [==============================] - 44s 29ms/step - loss: 0.0111 - accuracy: 0.9963\n",
            "375/375 [==============================] - 3s 9ms/step - loss: 0.0064 - accuracy: 0.9976\n",
            "Validation Accuracy: 0.9975833296775818\n",
            "375/375 [==============================] - 3s 9ms/step\n",
            "[[1203    0    0    0    0    0    0    0    0    0]\n",
            " [   0 1325    1    0    0    0    0    0    0    0]\n",
            " [   0    2 1215    0    0    0    0    0    0    0]\n",
            " [   0    0    1 1215    0    0    0    1    2    1]\n",
            " [   0    0    0    0 1131    0    0    0    0    3]\n",
            " [   0    0    0    2    0 1054    2    0    1    0]\n",
            " [   0    0    0    0    0    0 1216    0    0    0]\n",
            " [   0    1    3    0    1    0    0 1215    0    3]\n",
            " [   1    1    0    0    0    0    0    0 1230    0]\n",
            " [   0    0    0    1    0    0    0    1    1 1167]]\n"
          ]
        }
      ],
      "source": [
        "# Use KFold for cross-validation\n",
        "kf = KFold(n_splits=5, shuffle=True)\n",
        "for train_index, test_index in kf.split(train_images):\n",
        "    X_train_fold, X_val_fold = train_images[train_index], train_images[test_index]\n",
        "    y_train_fold, y_val_fold = train_labels[train_index], train_labels[test_index]\n",
        "\n",
        "    # Train and evaluate model for each fold\n",
        "    cnn_model.fit(X_train_fold, y_train_fold)\n",
        "    val_loss, val_accuracy = cnn_model.evaluate(X_val_fold, y_val_fold)\n",
        "    print(f'Validation Accuracy: {val_accuracy}')\n",
        "\n",
        "    # Generate confusion matrix\n",
        "    predictions = cnn_model.predict(X_val_fold)\n",
        "    cm = confusion_matrix(y_val_fold.argmax(axis=1), predictions.argmax(axis=1))\n",
        "    print(cm)"
      ]
    }
  ],
  "metadata": {
    "colab": {
      "provenance": []
    },
    "kernelspec": {
      "display_name": "Python 3 (ipykernel)",
      "language": "python",
      "name": "python3"
    },
    "language_info": {
      "codemirror_mode": {
        "name": "ipython",
        "version": 3
      },
      "file_extension": ".py",
      "mimetype": "text/x-python",
      "name": "python",
      "nbconvert_exporter": "python",
      "pygments_lexer": "ipython3",
      "version": "3.10.9"
    }
  },
  "nbformat": 4,
  "nbformat_minor": 0
}