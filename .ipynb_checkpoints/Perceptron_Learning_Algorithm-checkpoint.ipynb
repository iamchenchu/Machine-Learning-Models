{
 "cells": [
  {
   "cell_type": "markdown",
   "id": "5be6ca2e",
   "metadata": {},
   "source": [
    "#### This is an implementation of perceptron learning algorithm in single layered perceptron "
   ]
  },
  {
   "cell_type": "code",
   "execution_count": 1,
   "id": "b547fbda",
   "metadata": {},
   "outputs": [],
   "source": [
    "import numpy as np\n",
    "import matplotlib.pyplot as plt "
   ]
  },
  {
   "cell_type": "code",
   "execution_count": 2,
   "id": "08f8b800",
   "metadata": {},
   "outputs": [],
   "source": [
    "x1 = np.array([0., 0., 1., 1.], dtype = np.float32) # . is for simply say that it is a float value \n",
    "x2 = np.array([0., 1., 0., 1.], dtype = np.float32) \n",
    "\n",
    "y = np.array([0, 0, 0, 1], dtype = int) # For output we do not need any floating points as we are doing this for binary classification which means 0 or 1"
   ]
  },
  {
   "cell_type": "code",
   "execution_count": 3,
   "id": "0fdfe287",
   "metadata": {},
   "outputs": [
    {
     "data": {
      "text/plain": [
       "<matplotlib.collections.PathCollection at 0x11aa29e10>"
      ]
     },
     "execution_count": 3,
     "metadata": {},
     "output_type": "execute_result"
    },
    {
     "data": {
      "image/png": "[encoded data removed]",
      "text/plain": [
       "<Figure size 640x480 with 1 Axes>"
      ]
     },
     "metadata": {},
     "output_type": "display_data"
    }
   ],
   "source": [
    "plt.scatter(x1, x2, c=y)\n"
   ]
  },
  {
   "cell_type": "code",
   "execution_count": 4,
   "id": "b4c7017a",
   "metadata": {},
   "outputs": [],
   "source": [
    "# Repeat the numbers from x1, x2, and y - 50 times to augment the data we have to make understand our infant model well.\n",
    "\n",
    "x1 = np.repeat(x1, 50)\n",
    "x2 = np.repeat(x2, 50)\n",
    "y =  np.repeat(y, 50)"
   ]
  },
  {
   "cell_type": "code",
   "execution_count": 5,
   "id": "6d9cb4a5",
   "metadata": {},
   "outputs": [
    {
     "data": {
      "text/plain": [
       "array([0., 0., 0., 0., 0., 0., 0., 0., 0., 0., 0., 0., 0., 0., 0., 0., 0.,\n",
       "       0., 0., 0., 0., 0., 0., 0., 0., 0., 0., 0., 0., 0., 0., 0., 0., 0.,\n",
       "       0., 0., 0., 0., 0., 0., 0., 0., 0., 0., 0., 0., 0., 0., 0., 0., 0.,\n",
       "       0., 0., 0., 0., 0., 0., 0., 0., 0., 0., 0., 0., 0., 0., 0., 0., 0.,\n",
       "       0., 0., 0., 0., 0., 0., 0., 0., 0., 0., 0., 0., 0., 0., 0., 0., 0.,\n",
       "       0., 0., 0., 0., 0., 0., 0., 0., 0., 0., 0., 0., 0., 0., 0., 1., 1.,\n",
       "       1., 1., 1., 1., 1., 1., 1., 1., 1., 1., 1., 1., 1., 1., 1., 1., 1.,\n",
       "       1., 1., 1., 1., 1., 1., 1., 1., 1., 1., 1., 1., 1., 1., 1., 1., 1.,\n",
       "       1., 1., 1., 1., 1., 1., 1., 1., 1., 1., 1., 1., 1., 1., 1., 1., 1.,\n",
       "       1., 1., 1., 1., 1., 1., 1., 1., 1., 1., 1., 1., 1., 1., 1., 1., 1.,\n",
       "       1., 1., 1., 1., 1., 1., 1., 1., 1., 1., 1., 1., 1., 1., 1., 1., 1.,\n",
       "       1., 1., 1., 1., 1., 1., 1., 1., 1., 1., 1., 1., 1.], dtype=float32)"
      ]
     },
     "execution_count": 5,
     "metadata": {},
     "output_type": "execute_result"
    }
   ],
   "source": [
    "x1"
   ]
  },
  {
   "cell_type": "code",
   "execution_count": 6,
   "id": "c9a49300",
   "metadata": {},
   "outputs": [
    {
     "data": {
      "text/plain": [
       "(200,)"
      ]
     },
     "execution_count": 6,
     "metadata": {},
     "output_type": "execute_result"
    }
   ],
   "source": [
    "x1.shape"
   ]
  },
  {
   "cell_type": "code",
   "execution_count": 7,
   "id": "a696b836",
   "metadata": {},
   "outputs": [
    {
     "data": {
      "text/plain": [
       "array([0., 0., 0., 0., 0., 0., 0., 0., 0., 0., 0., 0., 0., 0., 0., 0., 0.,\n",
       "       0., 0., 0., 0., 0., 0., 0., 0., 0., 0., 0., 0., 0., 0., 0., 0., 0.,\n",
       "       0., 0., 0., 0., 0., 0., 0., 0., 0., 0., 0., 0., 0., 0., 0., 0., 1.,\n",
       "       1., 1., 1., 1., 1., 1., 1., 1., 1., 1., 1., 1., 1., 1., 1., 1., 1.,\n",
       "       1., 1., 1., 1., 1., 1., 1., 1., 1., 1., 1., 1., 1., 1., 1., 1., 1.,\n",
       "       1., 1., 1., 1., 1., 1., 1., 1., 1., 1., 1., 1., 1., 1., 1., 0., 0.,\n",
       "       0., 0., 0., 0., 0., 0., 0., 0., 0., 0., 0., 0., 0., 0., 0., 0., 0.,\n",
       "       0., 0., 0., 0., 0., 0., 0., 0., 0., 0., 0., 0., 0., 0., 0., 0., 0.,\n",
       "       0., 0., 0., 0., 0., 0., 0., 0., 0., 0., 0., 0., 0., 0., 1., 1., 1.,\n",
       "       1., 1., 1., 1., 1., 1., 1., 1., 1., 1., 1., 1., 1., 1., 1., 1., 1.,\n",
       "       1., 1., 1., 1., 1., 1., 1., 1., 1., 1., 1., 1., 1., 1., 1., 1., 1.,\n",
       "       1., 1., 1., 1., 1., 1., 1., 1., 1., 1., 1., 1., 1.], dtype=float32)"
      ]
     },
     "execution_count": 7,
     "metadata": {},
     "output_type": "execute_result"
    }
   ],
   "source": [
    "x2\n"
   ]
  },
  {
   "cell_type": "code",
   "execution_count": 8,
   "id": "317bff54",
   "metadata": {},
   "outputs": [
    {
     "data": {
      "text/plain": [
       "(200,)"
      ]
     },
     "execution_count": 8,
     "metadata": {},
     "output_type": "execute_result"
    }
   ],
   "source": [
    "x2.shape"
   ]
  },
  {
   "cell_type": "code",
   "execution_count": 9,
   "id": "8b2d6850",
   "metadata": {},
   "outputs": [
    {
     "data": {
      "text/plain": [
       "array([0, 0, 0, 0, 0, 0, 0, 0, 0, 0, 0, 0, 0, 0, 0, 0, 0, 0, 0, 0, 0, 0,\n",
       "       0, 0, 0, 0, 0, 0, 0, 0, 0, 0, 0, 0, 0, 0, 0, 0, 0, 0, 0, 0, 0, 0,\n",
       "       0, 0, 0, 0, 0, 0, 0, 0, 0, 0, 0, 0, 0, 0, 0, 0, 0, 0, 0, 0, 0, 0,\n",
       "       0, 0, 0, 0, 0, 0, 0, 0, 0, 0, 0, 0, 0, 0, 0, 0, 0, 0, 0, 0, 0, 0,\n",
       "       0, 0, 0, 0, 0, 0, 0, 0, 0, 0, 0, 0, 0, 0, 0, 0, 0, 0, 0, 0, 0, 0,\n",
       "       0, 0, 0, 0, 0, 0, 0, 0, 0, 0, 0, 0, 0, 0, 0, 0, 0, 0, 0, 0, 0, 0,\n",
       "       0, 0, 0, 0, 0, 0, 0, 0, 0, 0, 0, 0, 0, 0, 0, 0, 0, 0, 1, 1, 1, 1,\n",
       "       1, 1, 1, 1, 1, 1, 1, 1, 1, 1, 1, 1, 1, 1, 1, 1, 1, 1, 1, 1, 1, 1,\n",
       "       1, 1, 1, 1, 1, 1, 1, 1, 1, 1, 1, 1, 1, 1, 1, 1, 1, 1, 1, 1, 1, 1,\n",
       "       1, 1])"
      ]
     },
     "execution_count": 9,
     "metadata": {},
     "output_type": "execute_result"
    }
   ],
   "source": [
    "y"
   ]
  },
  {
   "cell_type": "code",
   "execution_count": 10,
   "id": "7b1c4982",
   "metadata": {},
   "outputs": [],
   "source": [
    "# Now let's add some noise so that model will have the clarity that which is wrong and which is right \n",
    "x1 = x1 + np.random.rand(x1.shape[0])*0.05  # x1.shape = 200, \n",
    "x2 = x2 + np.random.rand(x2.shape[0])*0.05\n",
    "# We should not add the noise as we have to map our data to exact class "
   ]
  },
  {
   "cell_type": "code",
   "execution_count": 11,
   "id": "d0b20aba",
   "metadata": {},
   "outputs": [
    {
     "data": {
      "text/plain": [
       "<matplotlib.collections.PathCollection at 0x11aade1d0>"
      ]
     },
     "execution_count": 11,
     "metadata": {},
     "output_type": "execute_result"
    },
    {
     "data": {
      "image/png": "[encoded data removed]",
      "text/plain": [
       "<Figure size 640x480 with 1 Axes>"
      ]
     },
     "metadata": {},
     "output_type": "display_data"
    }
   ],
   "source": [
    "plt.scatter(x1, x2, c=y) "
   ]
  },
  {
   "cell_type": "code",
   "execution_count": 12,
   "id": "0286c8fa",
   "metadata": {},
   "outputs": [],
   "source": [
    "# combine x1 and x2 \n",
    "\n",
    "X = np.column_stack((x1, x2))"
   ]
  },
  {
   "cell_type": "code",
   "execution_count": 13,
   "id": "080d55be",
   "metadata": {},
   "outputs": [
    {
     "data": {
      "text/plain": [
       "array([[4.77238732e-02, 7.71861103e-03],\n",
       "       [4.65351787e-02, 1.26810214e-03],\n",
       "       [2.30087929e-02, 2.93581522e-02],\n",
       "       [1.98704633e-02, 2.40132320e-02],\n",
       "       [4.58240337e-03, 1.24325104e-02],\n",
       "       [3.65684668e-02, 1.52514504e-02],\n",
       "       [4.96259338e-02, 2.90429901e-02],\n",
       "       [1.32720548e-02, 4.08458903e-02],\n",
       "       [1.25746001e-02, 2.12343192e-02],\n",
       "       [1.39253568e-02, 7.92239060e-03],\n",
       "       [4.67062095e-02, 3.89113726e-02],\n",
       "       [2.40569783e-02, 6.16499949e-04],\n",
       "       [3.37322799e-02, 2.25223907e-02],\n",
       "       [1.21853908e-02, 2.32844173e-02],\n",
       "       [2.37807871e-02, 2.69639940e-02],\n",
       "       [4.62900479e-02, 4.00281768e-02],\n",
       "       [3.62490971e-03, 3.13030149e-02],\n",
       "       [4.32029187e-02, 1.58136083e-02],\n",
       "       [1.85034015e-02, 2.04075962e-02],\n",
       "       [3.30757294e-02, 3.91445805e-02],\n",
       "       [3.31548664e-02, 2.92909598e-02],\n",
       "       [1.08681932e-06, 2.77388698e-02],\n",
       "       [3.85557345e-02, 4.46168543e-03],\n",
       "       [5.00338330e-03, 3.06869915e-02],\n",
       "       [2.94880560e-02, 3.08312259e-02],\n",
       "       [4.41721479e-02, 8.75992544e-03],\n",
       "       [3.95526226e-02, 4.88221005e-02],\n",
       "       [1.76768742e-02, 8.56543798e-03],\n",
       "       [2.14904546e-02, 9.00445192e-03],\n",
       "       [3.41251993e-02, 3.58784793e-02],\n",
       "       [2.87176335e-02, 1.51147570e-02],\n",
       "       [5.20707120e-03, 3.01043367e-02],\n",
       "       [4.48374890e-02, 9.32687482e-03],\n",
       "       [1.03461919e-02, 2.07454393e-02],\n",
       "       [3.30757029e-02, 9.21406117e-03],\n",
       "       [4.95521530e-02, 8.81535037e-03],\n",
       "       [4.56391517e-02, 3.68792032e-02],\n",
       "       [3.56396566e-02, 2.90875319e-02],\n",
       "       [2.44414376e-02, 2.30330207e-02],\n",
       "       [1.67949761e-02, 4.45891909e-02],\n",
       "       [3.17293596e-02, 4.03899521e-02],\n",
       "       [3.05022268e-02, 4.70830774e-02],\n",
       "       [3.96032011e-02, 4.69497384e-02],\n",
       "       [1.46026587e-02, 4.23507757e-02],\n",
       "       [2.30462486e-02, 3.75553137e-02],\n",
       "       [3.02294055e-03, 4.40131664e-02],\n",
       "       [2.74361838e-03, 2.54512810e-02],\n",
       "       [4.93745490e-02, 1.07583482e-05],\n",
       "       [3.13919628e-02, 3.69078132e-02],\n",
       "       [3.48611665e-02, 5.73201640e-03],\n",
       "       [2.23054966e-02, 1.04190349e+00],\n",
       "       [7.62585936e-03, 1.04534224e+00],\n",
       "       [1.93535204e-02, 1.03018288e+00],\n",
       "       [2.87983527e-02, 1.02147632e+00],\n",
       "       [3.08966987e-02, 1.00905494e+00],\n",
       "       [8.57421621e-03, 1.03431089e+00],\n",
       "       [1.06995694e-03, 1.04317622e+00],\n",
       "       [3.65714911e-02, 1.00352156e+00],\n",
       "       [1.21476400e-02, 1.01011933e+00],\n",
       "       [1.42176265e-02, 1.04788105e+00],\n",
       "       [2.46972348e-02, 1.01246597e+00],\n",
       "       [4.31148446e-02, 1.02268694e+00],\n",
       "       [4.96611256e-02, 1.00504174e+00],\n",
       "       [3.57095590e-03, 1.01812137e+00],\n",
       "       [1.39042915e-02, 1.00422557e+00],\n",
       "       [1.20952488e-02, 1.04469435e+00],\n",
       "       [3.80490325e-02, 1.00743038e+00],\n",
       "       [2.70965485e-02, 1.02912368e+00],\n",
       "       [6.79341406e-04, 1.00980497e+00],\n",
       "       [2.37276925e-02, 1.01882728e+00],\n",
       "       [1.16076117e-02, 1.03036071e+00],\n",
       "       [1.56230088e-02, 1.03841161e+00],\n",
       "       [3.23121533e-02, 1.02908786e+00],\n",
       "       [3.78714662e-02, 1.00080682e+00],\n",
       "       [4.39486017e-02, 1.04263835e+00],\n",
       "       [1.15219674e-02, 1.02782532e+00],\n",
       "       [4.52560926e-02, 1.03943683e+00],\n",
       "       [3.02289939e-02, 1.02681562e+00],\n",
       "       [2.91699616e-02, 1.04716422e+00],\n",
       "       [3.31547834e-02, 1.03657355e+00],\n",
       "       [2.34936317e-02, 1.02161476e+00],\n",
       "       [1.91147173e-02, 1.01263634e+00],\n",
       "       [1.27619357e-03, 1.03194301e+00],\n",
       "       [9.64770409e-03, 1.01410800e+00],\n",
       "       [3.93758669e-02, 1.00101835e+00],\n",
       "       [5.35271596e-03, 1.04478346e+00],\n",
       "       [2.11199282e-02, 1.04027173e+00],\n",
       "       [3.43260096e-02, 1.00291904e+00],\n",
       "       [2.30556786e-02, 1.00889338e+00],\n",
       "       [3.93193016e-02, 1.00906127e+00],\n",
       "       [3.05286469e-02, 1.03121908e+00],\n",
       "       [1.53952634e-02, 1.01166169e+00],\n",
       "       [4.71086211e-02, 1.02494322e+00],\n",
       "       [3.04353839e-02, 1.03853848e+00],\n",
       "       [1.41686448e-02, 1.00772199e+00],\n",
       "       [1.03444860e-02, 1.01231371e+00],\n",
       "       [1.42628768e-02, 1.01152024e+00],\n",
       "       [4.84968929e-02, 1.00902606e+00],\n",
       "       [4.13468346e-02, 1.03206065e+00],\n",
       "       [3.88182429e-02, 1.04504811e+00],\n",
       "       [1.00451123e+00, 1.35318038e-02],\n",
       "       [1.01587514e+00, 3.30127501e-02],\n",
       "       [1.02318316e+00, 3.46381036e-02],\n",
       "       [1.01932040e+00, 4.91915128e-03],\n",
       "       [1.04522749e+00, 3.29702257e-03],\n",
       "       [1.04181456e+00, 3.63127241e-02],\n",
       "       [1.04076368e+00, 1.41193379e-02],\n",
       "       [1.04696273e+00, 2.61994978e-02],\n",
       "       [1.03296802e+00, 4.81082946e-02],\n",
       "       [1.02138597e+00, 2.15012680e-02],\n",
       "       [1.01082356e+00, 1.77567304e-03],\n",
       "       [1.02453896e+00, 6.32889720e-03],\n",
       "       [1.03946429e+00, 1.63094747e-02],\n",
       "       [1.02828826e+00, 5.46357972e-03],\n",
       "       [1.00537518e+00, 2.00692199e-04],\n",
       "       [1.02057256e+00, 4.09329644e-02],\n",
       "       [1.04903118e+00, 1.40817097e-02],\n",
       "       [1.02587888e+00, 1.96465208e-02],\n",
       "       [1.00086189e+00, 3.73411023e-02],\n",
       "       [1.04723536e+00, 3.70231071e-02],\n",
       "       [1.01702214e+00, 4.20003394e-02],\n",
       "       [1.00405083e+00, 8.01990380e-03],\n",
       "       [1.00327165e+00, 9.38702753e-03],\n",
       "       [1.04875017e+00, 1.25527163e-02],\n",
       "       [1.00552839e+00, 6.01915312e-03],\n",
       "       [1.03491129e+00, 2.82993110e-02],\n",
       "       [1.00170088e+00, 4.58381593e-02],\n",
       "       [1.04346894e+00, 3.11578442e-02],\n",
       "       [1.04824320e+00, 8.70560011e-03],\n",
       "       [1.02077330e+00, 6.63160412e-03],\n",
       "       [1.01360335e+00, 2.31514149e-02],\n",
       "       [1.03687245e+00, 2.54438789e-02],\n",
       "       [1.04716366e+00, 3.44347394e-02],\n",
       "       [1.02356280e+00, 4.94530396e-02],\n",
       "       [1.00277123e+00, 8.53853602e-03],\n",
       "       [1.03391818e+00, 2.99373968e-03],\n",
       "       [1.03791557e+00, 4.73825527e-02],\n",
       "       [1.00429379e+00, 1.26113622e-03],\n",
       "       [1.04244824e+00, 1.47008172e-02],\n",
       "       [1.01486576e+00, 7.23100046e-04],\n",
       "       [1.03413402e+00, 2.36348469e-02],\n",
       "       [1.04667110e+00, 1.61622800e-03],\n",
       "       [1.00114179e+00, 4.14103229e-02],\n",
       "       [1.01058128e+00, 1.49278140e-02],\n",
       "       [1.01170283e+00, 2.08627430e-02],\n",
       "       [1.01802593e+00, 3.52881139e-02],\n",
       "       [1.01353392e+00, 3.81131311e-02],\n",
       "       [1.01560308e+00, 2.12716645e-02],\n",
       "       [1.01993587e+00, 4.76751181e-02],\n",
       "       [1.03310614e+00, 8.52844836e-03],\n",
       "       [1.02137554e+00, 1.00873067e+00],\n",
       "       [1.02897575e+00, 1.04949193e+00],\n",
       "       [1.02413144e+00, 1.03364020e+00],\n",
       "       [1.04817960e+00, 1.00976272e+00],\n",
       "       [1.04832862e+00, 1.02308879e+00],\n",
       "       [1.03669354e+00, 1.01744766e+00],\n",
       "       [1.03408683e+00, 1.02450523e+00],\n",
       "       [1.01993232e+00, 1.01865712e+00],\n",
       "       [1.01420378e+00, 1.02397866e+00],\n",
       "       [1.02909704e+00, 1.03175900e+00],\n",
       "       [1.01170361e+00, 1.04892207e+00],\n",
       "       [1.03246780e+00, 1.04137505e+00],\n",
       "       [1.01108612e+00, 1.04775058e+00],\n",
       "       [1.03620663e+00, 1.01612186e+00],\n",
       "       [1.00213230e+00, 1.00754424e+00],\n",
       "       [1.03158996e+00, 1.03028391e+00],\n",
       "       [1.00148962e+00, 1.00306073e+00],\n",
       "       [1.01773736e+00, 1.01774010e+00],\n",
       "       [1.02763037e+00, 1.01012384e+00],\n",
       "       [1.03990413e+00, 1.04903537e+00],\n",
       "       [1.04794394e+00, 1.00381527e+00],\n",
       "       [1.02931048e+00, 1.00060132e+00],\n",
       "       [1.01759355e+00, 1.01780587e+00],\n",
       "       [1.01765988e+00, 1.03940692e+00],\n",
       "       [1.02077212e+00, 1.03732245e+00],\n",
       "       [1.03343547e+00, 1.00657761e+00],\n",
       "       [1.04007011e+00, 1.02408154e+00],\n",
       "       [1.01707119e+00, 1.00645503e+00],\n",
       "       [1.03336657e+00, 1.00236871e+00],\n",
       "       [1.01590589e+00, 1.03724589e+00],\n",
       "       [1.03582036e+00, 1.01884517e+00],\n",
       "       [1.00493322e+00, 1.04387532e+00],\n",
       "       [1.03340152e+00, 1.04402490e+00],\n",
       "       [1.02126293e+00, 1.01015809e+00],\n",
       "       [1.02952537e+00, 1.03021150e+00],\n",
       "       [1.00421856e+00, 1.04820673e+00],\n",
       "       [1.02705352e+00, 1.02392515e+00],\n",
       "       [1.04789075e+00, 1.01974385e+00],\n",
       "       [1.04512063e+00, 1.03365748e+00],\n",
       "       [1.00377456e+00, 1.03740085e+00],\n",
       "       [1.01497081e+00, 1.02649516e+00],\n",
       "       [1.03355658e+00, 1.04354312e+00],\n",
       "       [1.03683804e+00, 1.02386637e+00],\n",
       "       [1.02296308e+00, 1.02340311e+00],\n",
       "       [1.00835120e+00, 1.00789193e+00],\n",
       "       [1.01196625e+00, 1.03588400e+00],\n",
       "       [1.00301399e+00, 1.02784160e+00],\n",
       "       [1.03452101e+00, 1.04151382e+00],\n",
       "       [1.02306816e+00, 1.00893315e+00],\n",
       "       [1.03323116e+00, 1.02581729e+00]])"
      ]
     },
     "execution_count": 13,
     "metadata": {},
     "output_type": "execute_result"
    }
   ],
   "source": [
    "X"
   ]
  },
  {
   "cell_type": "code",
   "execution_count": 14,
   "id": "04038d70",
   "metadata": {},
   "outputs": [
    {
     "name": "stdout",
     "output_type": "stream",
     "text": [
      "X.shape : (200, 2)\n",
      "y.shape : (200,)\n"
     ]
    }
   ],
   "source": [
    "print(f\"X.shape : {X.shape}\")\n",
    "print(f\"y.shape : {y.shape}\")\n"
   ]
  },
  {
   "cell_type": "code",
   "execution_count": 15,
   "id": "dabb9df6",
   "metadata": {},
   "outputs": [],
   "source": [
    "# It is not good practice to send the data directly without shuffling as there might my any correlation or dependenacy to the indexes so it's better to shuffle now \n",
    "\n",
    "#Shuffling\n",
    "\n",
    "shuffle_idx = np.arange(y.shape[0])\n",
    "shuffle_rng = np.random.RandomState(42) # rng = random number generator\n",
    "shuffle_rng.shuffle(shuffle_idx)\n",
    "\n",
    "X, y = X[shuffle_idx], y[shuffle_idx]"
   ]
  },
  {
   "cell_type": "code",
   "execution_count": 16,
   "id": "f6295b8d",
   "metadata": {},
   "outputs": [],
   "source": [
    "# Train_Test split - 70% and 30%\n",
    "\n",
    "X_train, X_test = X[shuffle_idx[:140]], X[shuffle_idx[140:]]\n",
    "y_train, y_test = y[shuffle_idx[:140]], y[shuffle_idx[140:]]"
   ]
  },
  {
   "cell_type": "code",
   "execution_count": 17,
   "id": "0f62de6b",
   "metadata": {},
   "outputs": [],
   "source": [
    "# Normalization (zero mean, unit variance is 1)\n",
    "\n",
    "mu, sigma = X_train.mean(axis = 0), X_train.std(axis = 0) # axis = 0 means find the operation along the rows , it it's 1 then along the columsn \n",
    "X_train = (X_train-mu)/sigma\n",
    "X_test = (X_test-mu)/sigma\n",
    " "
   ]
  },
  {
   "cell_type": "code",
   "execution_count": 25,
   "id": "8a163bf5",
   "metadata": {},
   "outputs": [],
   "source": [
    "class Perceptron():\n",
    "    def __init__(self, num_features):\n",
    "        self.num_features = num_features\n",
    "        self.weights = np.zeros((num_features, 1), dtype=float)\n",
    "        self.bias = np.zeros(1, dtype=float)\n",
    "        \n",
    "    #x is input  \n",
    "    def forward(self, x):\n",
    "        linear = np.dot(x, self.weights) + self.bias\n",
    "        predictions = np.where(linear > 0., 1, 0)   # kind of turnary operator \n",
    "        return predictions\n",
    "    \n",
    "    # x is input and y is actual value\n",
    "    def backward(self, x, y):\n",
    "        predictions = self.forward(x)\n",
    "        errors = y - predictions\n",
    "        return errors\n",
    "    \n",
    "    def train(self, x, y, epochs):\n",
    "        for e in range(epochs):\n",
    "            for i in range(y.shape[0]):\n",
    "                errors = self.backward(x[i].reshape(1, self.num_features), y[i]).reshape(-1) # -1 removing one dimention from the array and make it flatten\n",
    "                self.weights += (errors * x[i]).reshape(self.num_features, 1)\n",
    "                self.bias  += errors * 1\n",
    "                \n",
    "    \n",
    "    \n",
    "    def evaluate(self, x, y):\n",
    "        predictions = self.forward(x).reshape(-1)\n",
    "        accuracy = np.sum(predictions == y)/y.shape[0]  #ratio of number of currect predictions on overall\n",
    "        return accuracy\n",
    "        "
   ]
  },
  {
   "cell_type": "code",
   "execution_count": 26,
   "id": "a6917404",
   "metadata": {},
   "outputs": [],
   "source": [
    "ppn = Perceptron(num_features=2)\n",
    "ppn.train(X_train, y_train, epochs = 5)"
   ]
  },
  {
   "cell_type": "code",
   "execution_count": 20,
   "id": "43b70b69",
   "metadata": {},
   "outputs": [
    {
     "name": "stdout",
     "output_type": "stream",
     "text": [
      "Model parameters : \n",
      "Weights : [[0.86075595]\n",
      " [1.02411053]]\n",
      "Bias :  [-1.]\n"
     ]
    }
   ],
   "source": [
    "print(\"Model parameters : \")\n",
    "print(\"Weights :\", ppn.weights)\n",
    "print(\"Bias : \", ppn.bias)"
   ]
  },
  {
   "cell_type": "code",
   "execution_count": 21,
   "id": "5a6e8ed8",
   "metadata": {},
   "outputs": [
    {
     "name": "stdout",
     "output_type": "stream",
     "text": [
      "Test accuracy :  100.0 %\n"
     ]
    }
   ],
   "source": [
    "test_accuracy = ppn.evaluate(X_test, y_test)\n",
    "print(\"Test accuracy : \",test_accuracy*100,\"%\")"
   ]
  },
  {
   "cell_type": "code",
   "execution_count": 22,
   "id": "4899ac1b",
   "metadata": {},
   "outputs": [
    {
     "data": {
      "text/plain": [
       "<matplotlib.legend.Legend at 0x11abb4990>"
      ]
     },
     "execution_count": 22,
     "metadata": {},
     "output_type": "execute_result"
    },
    {
     "data": {
      "image/png": "[encoded data removed]",
      "text/plain": [
       "<Figure size 700x300 with 2 Axes>"
      ]
     },
     "metadata": {},
     "output_type": "display_data"
    }
   ],
   "source": [
    "w, b = ppn.weights, ppn.bias\n",
    "\n",
    "# x1w1 + x2w2 + b = 0 if we wanted to draw this then change this into y= ax+b\n",
    "x_min = -2\n",
    "y_min = ((-(w[0]*x_min)-b[0])/w[1]) # finding x2 from the whole above equation as x2 = (-(x1w1)-b)/w2\n",
    "\n",
    "\n",
    "x_max = 2\n",
    "y_max = ((-(w[0]*x_max)-b[0])/w[1])\n",
    "\n",
    "\n",
    "fig, ax = plt.subplots(1, 2, figsize=(7,3))\n",
    "ax[0].plot([x_min, x_max], [y_min, y_max])\n",
    "ax[1].plot([x_min, x_max], [y_min, y_max])\n",
    "\n",
    "# For training\n",
    "ax[0].scatter(X_train[y_train ==0,0], X_train[y_train ==0,1], label=\"class 0\", marker = 'o')\n",
    "ax[0].scatter(X_train[y_train ==1,0], X_train[y_train ==1,1], label=\"class 1\", marker = 's')\n",
    "\n",
    "# For Testing\n",
    "ax[1].scatter(X_test[y_test ==0,0], X_test[y_test ==0,1], label=\"class 0\", marker = 'o')\n",
    "ax[1].scatter(X_test[y_test ==1,0], X_test[y_test ==1,1], label=\"class 1\", marker = 's')\n",
    "\n",
    "ax[1].legend()\n",
    "ax[0].legend()"
   ]
  },
  {
   "cell_type": "code",
   "execution_count": null,
   "id": "f11375e1",
   "metadata": {},
   "outputs": [],
   "source": []
  }
 ],
 "metadata": {
  "kernelspec": {
   "display_name": "Python 3 (ipykernel)",
   "language": "python",
   "name": "python3"
  },
  "language_info": {
   "codemirror_mode": {
    "name": "ipython",
    "version": 3
   },
   "file_extension": ".py",
   "mimetype": "text/x-python",
   "name": "python",
   "nbconvert_exporter": "python",
   "pygments_lexer": "ipython3",
   "version": "3.11.5"
  }
 },
 "nbformat": 4,
 "nbformat_minor": 5
}
