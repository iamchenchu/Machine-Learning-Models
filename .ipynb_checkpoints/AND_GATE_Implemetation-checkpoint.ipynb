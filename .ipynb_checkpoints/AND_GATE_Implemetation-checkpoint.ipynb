{
 "cells": [
  {
   "cell_type": "markdown",
   "id": "443930ff",
   "metadata": {},
   "source": [
    "### This code is to implemet the AND gate implentation of artificial neuron\n",
    "\n",
    "where we will use hit and trail method to implement the w1, w2 and b until we get the desired output \n",
    "\n"
   ]
  },
  {
   "cell_type": "code",
   "execution_count": 19,
   "id": "e6c58d88",
   "metadata": {},
   "outputs": [],
   "source": [
    "import pandas as pd\n",
    "\n",
    "w1 = 1\n",
    "w2 = 1\n",
    "b = -1.5\n",
    "\n",
    "inputs = [(0,0), (0,1), (1,0), (1,1)]\n",
    "correct_outputs = [0, 0, 0, 1]\n",
    "pred_outputs = []"
   ]
  },
  {
   "cell_type": "code",
   "execution_count": 20,
   "id": "b28e60ee",
   "metadata": {},
   "outputs": [
    {
     "name": "stdout",
     "output_type": "stream",
     "text": [
      "All correct\n",
      "   Input 1  Input 2    z  Pred Output Is Correct?\n",
      "0        0        0 -1.5            0         YES\n",
      "1        0        1 -0.5            0         YES\n",
      "2        1        0 -0.5            0         YES\n",
      "3        1        1  0.5            1         YES\n"
     ]
    }
   ],
   "source": [
    "for input, correct_output in zip(inputs, correct_outputs):\n",
    "    z = input[0]*w1 + input[1]*w2 + b\n",
    "    pred_output = int(z >= 0)  # Correctly calculate the prediction here\n",
    "    is_correct = 'YES' if pred_output == correct_output else 'NO'  # Corrected variable name\n",
    "    pred_outputs.append([input[0], input[1], z, pred_output, is_correct])\n",
    "    \n",
    "\n",
    "num_wrong = len([pred_output[4] for pred_output in pred_outputs if pred_output[4] == 'NO'])\n",
    "\n",
    "\n",
    "output_df = pd.DataFrame(pred_outputs, columns = ['Input 1', 'Input 2', 'z', 'Pred Output', 'Is Correct?'])\n",
    "\n",
    "if not num_wrong:\n",
    "    print(\"All correct\")\n",
    "else:\n",
    "    print(f\"You got {num_wrong} wrong\")  \n",
    "    \n",
    "print(output_df)"
   ]
  },
  {
   "cell_type": "code",
   "execution_count": 21,
   "id": "48a0148c",
   "metadata": {},
   "outputs": [
    {
     "name": "stdout",
     "output_type": "stream",
     "text": [
      "0\n"
     ]
    }
   ],
   "source": [
    "print(num_wrong)"
   ]
  },
  {
   "cell_type": "code",
   "execution_count": 2,
   "id": "7b92a102",
   "metadata": {},
   "outputs": [
    {
     "ename": "ModuleNotFoundError",
     "evalue": "No module named 'torch'",
     "output_type": "error",
     "traceback": [
      "\u001b[0;31m---------------------------------------------------------------------------\u001b[0m",
      "\u001b[0;31mModuleNotFoundError\u001b[0m                       Traceback (most recent call last)",
      "Cell \u001b[0;32mIn[2], line 1\u001b[0m\n\u001b[0;32m----> 1\u001b[0m \u001b[38;5;28;01mimport\u001b[39;00m \u001b[38;5;21;01mtorch\u001b[39;00m\n\u001b[1;32m      3\u001b[0m \u001b[38;5;66;03m# Check if CUDA is available\u001b[39;00m\n\u001b[1;32m      4\u001b[0m \u001b[38;5;28;01mif\u001b[39;00m torch\u001b[38;5;241m.\u001b[39mcuda\u001b[38;5;241m.\u001b[39mis_available():\n\u001b[1;32m      5\u001b[0m     \u001b[38;5;66;03m# Get the name of the CUDA device\u001b[39;00m\n",
      "\u001b[0;31mModuleNotFoundError\u001b[0m: No module named 'torch'"
     ]
    }
   ],
   "source": [
    "import torch\n",
    "\n",
    "# Check if CUDA is available\n",
    "if torch.cuda.is_available():\n",
    "    # Get the name of the CUDA device\n",
    "    gpu_name = torch.cuda.get_device_name(0)\n",
    "    print(f\"CUDA is available. GPU Name: {gpu_name}\")\n",
    "else:\n",
    "    print(\"CUDA is not available. Running on CPU.\")"
   ]
  },
  {
   "cell_type": "code",
   "execution_count": null,
   "id": "29f21650",
   "metadata": {},
   "outputs": [],
   "source": []
  }
 ],
 "metadata": {
  "kernelspec": {
   "display_name": "Python 3 (ipykernel)",
   "language": "python",
   "name": "python3"
  },
  "language_info": {
   "codemirror_mode": {
    "name": "ipython",
    "version": 3
   },
   "file_extension": ".py",
   "mimetype": "text/x-python",
   "name": "python",
   "nbconvert_exporter": "python",
   "pygments_lexer": "ipython3",
   "version": "3.11.5"
  }
 },
 "nbformat": 4,
 "nbformat_minor": 5
}
