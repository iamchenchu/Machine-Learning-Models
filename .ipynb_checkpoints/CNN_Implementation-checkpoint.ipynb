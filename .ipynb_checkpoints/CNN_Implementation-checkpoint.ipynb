{
 "cells": [
  {
   "cell_type": "markdown",
   "id": "c13f4d3a-b16c-4260-8f7f-172caef0e730",
   "metadata": {},
   "source": [
    "#### Import the libraries"
   ]
  },
  {
   "cell_type": "markdown",
   "id": "84121bbf-5005-4979-af7b-bbf2f3045e62",
   "metadata": {},
   "source": [
    "#### Step 1: Import the required documents"
   ]
  },
  {
   "cell_type": "code",
   "execution_count": 3,
   "id": "4b61c9d0-7175-48ef-842e-df3fd8360ba6",
   "metadata": {},
   "outputs": [],
   "source": [
    "import tensorflow as tf\n",
    "from tensorflow.keras import datasets, layers, models \n",
    "import matplotlib.pyplot as plt"
   ]
  },
  {
   "cell_type": "markdown",
   "id": "ad88b2b6-d9cf-41c6-b303-5d55e83c93e5",
   "metadata": {},
   "source": [
    "#### Step 2: Load and Prepare the CIFAR-10 Dataset\n"
   ]
  },
  {
   "cell_type": "code",
   "execution_count": null,
   "id": "c502e54c-64f8-4e79-88be-b23de12fbbe0",
   "metadata": {},
   "outputs": [],
   "source": [
    "(train_images, train_labels), (test_images, test_labels) = datasets.cifar10.load_data()\n",
    "\n",
    "# Normalize pixel values to be 0 and 1\n",
    "train_images, test_images = train_images/255.0, test_images / 255.0"
   ]
  },
  {
   "cell_type": "markdown",
   "id": "885b6a77-5dfb-40f4-aac3-bdb3a4659d8b",
   "metadata": {},
   "source": [
    "#### Step 3: Define the CNN Architecture"
   ]
  },
  {
   "cell_type": "code",
   "execution_count": null,
   "id": "437981d6-960d-42ac-ae01-dcf6d8762e80",
   "metadata": {},
   "outputs": [],
   "source": [
    "model = models.Sequential()\n",
    "\n",
    "# Convolutional layer 1\n",
    "model.add(layers.Conv2D(32, (3,3), activation='relu', input_size=(32, 32, 3)))\n",
    "model.add(layers.MaxPooling2D((2, 2)))\n",
    "\n",
    "# Convolutional layer 2\n",
    "model.add(layers.Conv2D(64, (3, 3), activation='relu'))\n",
    "model.add(layers.MaxPooling2D((2, 2))\n",
    "\n",
    "# Convolutional layer 3\n",
    "model.add(layers.Conv2D(64, (3,3), activation='relu')\n",
    "\n",
    "\n",
    "# Adding a fully connected layer\n",
    "model.add(layers.Flatten())\n",
    "model.add(layers.Dense(64, activation='relu'))\n",
    "model.add(layers.Dense(10))"
   ]
  },
  {
   "cell_type": "markdown",
   "id": "abeb1a3c-7b0f-419f-a415-8994429c0929",
   "metadata": {},
   "source": [
    "#### Step 4: Compile the model"
   ]
  },
  {
   "cell_type": "code",
   "execution_count": null,
   "id": "301c6c7d-c3d8-4fe1-8591-444d786a87ae",
   "metadata": {},
   "outputs": [],
   "source": [
    "model.compile(optimization='adam',\n",
    "             loss = tf.keras.losses.SparseCategoricalCrossentropy(from_logits=True),\n",
    "             metrics = ['accuracy'])"
   ]
  },
  {
   "cell_type": "markdown",
   "id": "5408fa69-24b3-46a4-8fdc-1d0d0393984a",
   "metadata": {},
   "source": [
    "#### Step 5: Train the Model"
   ]
  },
  {
   "cell_type": "code",
   "execution_count": null,
   "id": "57ef8a99-09ea-4573-8809-f2bfe5c3f8c3",
   "metadata": {},
   "outputs": [],
   "source": []
  },
  {
   "cell_type": "markdown",
   "id": "0e7b633e-a6b5-4e86-9780-be3194fc4afa",
   "metadata": {},
   "source": [
    "#### Step 6: Evaluate the model"
   ]
  },
  {
   "cell_type": "code",
   "execution_count": null,
   "id": "b00289cf-06f2-4ee5-ab57-657de05fde00",
   "metadata": {},
   "outputs": [],
   "source": []
  },
  {
   "cell_type": "markdown",
   "id": "61870056-b620-49da-8e53-5d5144c37935",
   "metadata": {},
   "source": [
    "#### Step 7: Visualization"
   ]
  },
  {
   "cell_type": "code",
   "execution_count": null,
   "id": "2e7e6682-cd4a-4939-bc54-6641c5ffc813",
   "metadata": {},
   "outputs": [],
   "source": []
  }
 ],
 "metadata": {
  "kernelspec": {
   "display_name": "Python 3 (ipykernel)",
   "language": "python",
   "name": "python3"
  },
  "language_info": {
   "codemirror_mode": {
    "name": "ipython",
    "version": 3
   },
   "file_extension": ".py",
   "mimetype": "text/x-python",
   "name": "python",
   "nbconvert_exporter": "python",
   "pygments_lexer": "ipython3",
   "version": "3.8.18"
  }
 },
 "nbformat": 4,
 "nbformat_minor": 5
}
